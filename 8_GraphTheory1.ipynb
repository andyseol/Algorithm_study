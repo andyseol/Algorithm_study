{
 "cells": [
  {
   "cell_type": "markdown",
   "id": "7ee54322",
   "metadata": {},
   "source": [
    "# 그래프 이론(Graph Theory)"
   ]
  },
  {
   "cell_type": "markdown",
   "id": "76469419",
   "metadata": {},
   "source": [
    "## 1. 서로소 집합(Disjoint Sets)\n",
    "- 공통 원소가 없는 두 집합\n",
    "- 서로소 집합 자료구조: union과 find 연산으로 구성"
   ]
  },
  {
   "cell_type": "code",
   "execution_count": 1,
   "id": "69ffedd7",
   "metadata": {},
   "outputs": [],
   "source": [
    "'특정 원소가 속한 집합을 찾기'\n",
    "# def find_parent(parent, x):\n",
    "#     if parent[x] != x:\n",
    "#         return find_parent(parent, parent[x])\n",
    "#     return x\n",
    "\n",
    "'특정 원소가 속한 집합을 찾기: 경로 압축(Path Compression)'\n",
    "def find_parent(parent, x):\n",
    "    if parent[x] != x:\n",
    "        parent[x] = find_parent(parent, parent[x])\n",
    "    return parent[x]\n",
    "\n",
    "'두 원소가 속한 집합을 합치기'\n",
    "def union_parent(parent, a, b):\n",
    "    a = find_parent(parent, a)\n",
    "    b = find_parent(parent, b)\n",
    "    if a < b:\n",
    "        parent[b] = a\n",
    "    else:\n",
    "        parent[a] = b"
   ]
  },
  {
   "cell_type": "code",
   "execution_count": 2,
   "id": "27fc0497",
   "metadata": {},
   "outputs": [
    {
     "name": "stdout",
     "output_type": "stream",
     "text": [
      "6 4\n",
      "1 4\n",
      "2 3\n",
      "2 4\n",
      "5 6\n"
     ]
    }
   ],
   "source": [
    "'노드의 개수와 간선의 개수 입력받기'\n",
    "v, e = map(int, input().split())\n",
    "parent = [0] * (v + 1)\n",
    "\n",
    "'부모 테이블에서 부모를 자기 노드로 초기화'\n",
    "for i in range(1, v + 1):\n",
    "    parent[i] = i\n",
    "\n",
    "'union 연산'\n",
    "for i in range(e):\n",
    "    a, b = map(int, input().split())\n",
    "    union_parent(parent, a, b)"
   ]
  },
  {
   "cell_type": "code",
   "execution_count": 3,
   "id": "d1f7cf2c",
   "metadata": {},
   "outputs": [
    {
     "name": "stdout",
     "output_type": "stream",
     "text": [
      "각 원소가 속한 집합: 1 1 1 1 5 5 \n",
      "부모 테이블: 1 1 1 1 5 5 "
     ]
    }
   ],
   "source": [
    "'각 원소가 속한 집합 출력'\n",
    "print('각 원소가 속한 집합: ', end='')\n",
    "for i in range(1, v + 1):\n",
    "    print(find_parent(parent, i), end=' ')\n",
    "print()\n",
    "\n",
    "'부모 테이블 출력'\n",
    "print('부모 테이블: ', end='')\n",
    "for i in range(1, v + 1):\n",
    "    print(parent[i], end=' ')"
   ]
  },
  {
   "cell_type": "code",
   "execution_count": null,
   "id": "c3a80442",
   "metadata": {},
   "outputs": [],
   "source": []
  },
  {
   "cell_type": "markdown",
   "id": "18c6b490",
   "metadata": {},
   "source": [
    "### ※ 서로소 집합을 활용한 무향 그래프 사이클 판별"
   ]
  },
  {
   "cell_type": "code",
   "execution_count": 4,
   "id": "43cd70d8",
   "metadata": {},
   "outputs": [],
   "source": [
    "'특정 원소가 속한 집합을 찾기: 경로 압축(Path Compression)'\n",
    "def find_parent(parent, x):\n",
    "    if parent[x] != x:\n",
    "        parent[x] = find_parent(parent, parent[x])\n",
    "    return parent[x]\n",
    "\n",
    "'두 원소가 속한 집합을 합치기'\n",
    "def union_parent(parent, a, b):\n",
    "    a = find_parent(parent, a)\n",
    "    b = find_parent(parent, b)\n",
    "    if a < b:\n",
    "        parent[b] = a\n",
    "    else:\n",
    "        parent[a] = b"
   ]
  },
  {
   "cell_type": "code",
   "execution_count": 5,
   "id": "a1eb8f79",
   "metadata": {},
   "outputs": [
    {
     "name": "stdout",
     "output_type": "stream",
     "text": [
      "3 3\n"
     ]
    }
   ],
   "source": [
    "'노드의 개수와 간선의 개수 입력받기'\n",
    "v, e = map(int, input().split())\n",
    "parent = [0] * (v + 1)\n",
    "\n",
    "'부모 테이블에서 부모를 자기 노드로 초기화'\n",
    "for i in range(1, v + 1):\n",
    "    parent[i] = i"
   ]
  },
  {
   "cell_type": "code",
   "execution_count": 6,
   "id": "b408f0aa",
   "metadata": {},
   "outputs": [
    {
     "name": "stdout",
     "output_type": "stream",
     "text": [
      "1 2\n",
      "1 3\n",
      "2 3\n",
      "사이클 발생\n"
     ]
    }
   ],
   "source": [
    "cycle = False\n",
    "\n",
    "for i in range(e):\n",
    "    a, b = map(int, input().split())\n",
    "    if find_parent(parent, a) == find_parent(parent, b):\n",
    "        cycle = True\n",
    "        break\n",
    "    else:\n",
    "        union_parent(parent, a, b)\n",
    "        \n",
    "if cycle:\n",
    "    print(\"사이클 발생\")\n",
    "else:\n",
    "    print(\"사이클 없음\")"
   ]
  },
  {
   "cell_type": "code",
   "execution_count": null,
   "id": "f05c1a4f",
   "metadata": {},
   "outputs": [],
   "source": []
  },
  {
   "cell_type": "markdown",
   "id": "0ce21fa5",
   "metadata": {},
   "source": [
    "## 2. 신장 트리(Spanning Tree)\n",
    "- 하나의 그래프가 있을 때 모든 노드를 포함하면서 사이클이 존재하지 않는 부분 그래프"
   ]
  },
  {
   "cell_type": "markdown",
   "id": "80c7faa3",
   "metadata": {},
   "source": [
    "### Kruskal Algorithm\n",
    "- 대표적인 최소 신장 트리 알고리즘\n",
    "- Greedy Algorithm"
   ]
  },
  {
   "cell_type": "code",
   "execution_count": 7,
   "id": "dc402b1f",
   "metadata": {},
   "outputs": [],
   "source": [
    "'특정 원소가 속한 집합을 찾기: 경로 압축(Path Compression)'\n",
    "def find_parent(parent, x):\n",
    "    if parent[x] != x:\n",
    "        parent[x] = find_parent(parent, parent[x])\n",
    "    return parent[x]\n",
    "\n",
    "'두 원소가 속한 집합을 합치기'\n",
    "def union_parent(parent, a, b):\n",
    "    a = find_parent(parent, a)\n",
    "    b = find_parent(parent, b)\n",
    "    if a < b:\n",
    "        parent[b] = a\n",
    "    else:\n",
    "        parent[a] = b"
   ]
  },
  {
   "cell_type": "code",
   "execution_count": 8,
   "id": "779a59a0",
   "metadata": {},
   "outputs": [],
   "source": [
    "'노드의 개수와 간선의 개수 입력받기'\n",
    "# v, e = map(int, input().split())\n",
    "v, e = 7, 9\n",
    "parent = [0] * (v + 1)\n",
    "\n",
    "'부모 테이블에서 부모를 자기 노드로 초기화'\n",
    "for i in range(1, v + 1):\n",
    "    parent[i] = i"
   ]
  },
  {
   "cell_type": "code",
   "execution_count": 9,
   "id": "ce6fe91f",
   "metadata": {},
   "outputs": [],
   "source": [
    "'모든 간선을 담을 리스트와 최종 비용을 담을 변수'\n",
    "edges = []\n",
    "result = 0\n",
    "\n",
    "'모든 간선에 대한 정보를 입력받기'\n",
    "# for _ in range(e):\n",
    "#     a, b, cost = map(int, input().split())\n",
    "#     edges.append((cost, a, b))\n",
    "    \n",
    "edges = [(29, 1, 2),\n",
    " (75, 1, 5),\n",
    " (35, 2, 3),\n",
    " (34, 2, 6),\n",
    " (7, 3, 4),\n",
    " (23, 4, 6),\n",
    " (13, 4, 7),\n",
    " (53, 5, 6),\n",
    " (25, 6, 7)]"
   ]
  },
  {
   "cell_type": "code",
   "execution_count": 10,
   "id": "5fb68866",
   "metadata": {},
   "outputs": [
    {
     "name": "stdout",
     "output_type": "stream",
     "text": [
      "159\n"
     ]
    }
   ],
   "source": [
    "'간선을 비용 순으로 정렬'\n",
    "edges.sort()\n",
    "\n",
    "'간선을 하나씩 확인하여'\n",
    "for edge in edges:\n",
    "    cost, a, b = edge\n",
    "    '사이클이 발생하지 않는 경우에만 집합에 포함'\n",
    "    if find_parent(parent, a) != find_parent(parent, b):\n",
    "        union_parent(parent, a, b)\n",
    "        result += cost\n",
    "        \n",
    "print(result)"
   ]
  },
  {
   "cell_type": "code",
   "execution_count": null,
   "id": "85e6a9de",
   "metadata": {},
   "outputs": [],
   "source": []
  },
  {
   "cell_type": "markdown",
   "id": "a6819493",
   "metadata": {},
   "source": [
    "## 3. 위상 정렬(Topology Sort)\n",
    "- 유향 그래프의 모든 노드를 방향성에 거스르지 않도록 순서대로 나열"
   ]
  },
  {
   "cell_type": "code",
   "execution_count": 11,
   "id": "831d3811",
   "metadata": {},
   "outputs": [],
   "source": [
    "from collections import deque"
   ]
  },
  {
   "cell_type": "code",
   "execution_count": 12,
   "id": "024e3d3a",
   "metadata": {},
   "outputs": [],
   "source": [
    "'노드의 개수와 간선의 개수 입력받기'\n",
    "# v, e = map(int, input().split())\n",
    "v, e = 7, 8\n",
    "\n",
    "'모든 노드에 대하여 진입차수를 0으로 초기화'\n",
    "indegree = [0] * (v + 1)"
   ]
  },
  {
   "cell_type": "code",
   "execution_count": 13,
   "id": "efff02b8",
   "metadata": {},
   "outputs": [],
   "source": [
    "'각 노드에 연결된 간선 정보를 담기 위한 연결 리스트 초기화'\n",
    "graph = [[] for i in range(v + 1)]\n",
    "\n",
    "'유향 그래프의 모든 간선 정보를 입력받기'\n",
    "# for _ in range(e):\n",
    "#     a, b = map(int, input().split())\n",
    "#     graph[a].append(b)    # 노드 a -> b 이동 가능\n",
    "#     indegree[b] += 1\n",
    "    \n",
    "graph = [[], [2, 5], [3, 6], [4], [7], [6], [4], []]\n",
    "indegree = [0, 0, 1, 1, 2, 1, 2, 1]"
   ]
  },
  {
   "cell_type": "code",
   "execution_count": 14,
   "id": "07d2a50a",
   "metadata": {},
   "outputs": [],
   "source": [
    "'위상 정렬 함수'\n",
    "def topology_sort():\n",
    "    result = []\n",
    "    q = deque()\n",
    "    \n",
    "    for i in range(1, v + 1):\n",
    "        if indegree[i] == 0:\n",
    "            q.append(i)\n",
    "    \n",
    "    while q:\n",
    "        now = q.popleft()\n",
    "        result.append(now)\n",
    "        for i in graph[now]:\n",
    "            indegree[i] -= 1\n",
    "            if indegree[i] == 0:\n",
    "                q.append(i)\n",
    "                \n",
    "    '결과 출력'       \n",
    "    for i in result:\n",
    "        print(i, end=' ')"
   ]
  },
  {
   "cell_type": "code",
   "execution_count": 15,
   "id": "d6948566",
   "metadata": {},
   "outputs": [
    {
     "name": "stdout",
     "output_type": "stream",
     "text": [
      "1 2 5 3 6 4 7 "
     ]
    }
   ],
   "source": [
    "topology_sort()"
   ]
  },
  {
   "cell_type": "code",
   "execution_count": null,
   "id": "1e22529d",
   "metadata": {},
   "outputs": [],
   "source": []
  }
 ],
 "metadata": {
  "kernelspec": {
   "display_name": "Python 3",
   "language": "python",
   "name": "python3"
  },
  "language_info": {
   "codemirror_mode": {
    "name": "ipython",
    "version": 3
   },
   "file_extension": ".py",
   "mimetype": "text/x-python",
   "name": "python",
   "nbconvert_exporter": "python",
   "pygments_lexer": "ipython3",
   "version": "3.8.8"
  }
 },
 "nbformat": 4,
 "nbformat_minor": 5
}
