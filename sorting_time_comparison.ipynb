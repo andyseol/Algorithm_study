{
 "cells": [
  {
   "cell_type": "markdown",
   "id": "f2efb43a",
   "metadata": {},
   "source": [
    "# 선택 정렬과 기본 정렬 라이브러리의 수행 시간 비교"
   ]
  },
  {
   "cell_type": "code",
   "execution_count": 1,
   "id": "af360911",
   "metadata": {},
   "outputs": [],
   "source": [
    "from random import randint\n",
    "import time"
   ]
  },
  {
   "cell_type": "code",
   "execution_count": 2,
   "id": "9b3f39e2",
   "metadata": {},
   "outputs": [],
   "source": [
    "# 배열에 10,000개의 정수를 삽입\n",
    "array = []\n",
    "for _ in range(10000):\n",
    "    array.append(randint(1, 100))"
   ]
  },
  {
   "cell_type": "code",
   "execution_count": 3,
   "id": "bdd7a59c",
   "metadata": {},
   "outputs": [
    {
     "name": "stdout",
     "output_type": "stream",
     "text": [
      "선택 정렬 성능 측정: 61.659181356430054\n"
     ]
    }
   ],
   "source": [
    "# 선택 정렬 프로그램 성능 측정\n",
    "start_time = time.time()\n",
    "\n",
    "# 선택 정렬 프로그램 소스코드\n",
    "for i in range(len(array)):\n",
    "    min_index = i\n",
    "    for j in range(i + 1, len(array)):\n",
    "        if array[min_index] > array[j]:\n",
    "            min_index = j\n",
    "        array[i], array[min_index] = array[min_index], array[i]\n",
    "\n",
    "end_time = time.time()\n",
    "print(\"선택 정렬 성능 측정:\", end_time - start_time)"
   ]
  },
  {
   "cell_type": "code",
   "execution_count": 4,
   "id": "1ba44569",
   "metadata": {},
   "outputs": [],
   "source": [
    "# 배열을 다시 무작위 데이터로 초기화\n",
    "array = []\n",
    "for _ in range(10000):\n",
    "    array.append(randint(1, 100))"
   ]
  },
  {
   "cell_type": "code",
   "execution_count": 5,
   "id": "a311c12a",
   "metadata": {},
   "outputs": [
    {
     "name": "stdout",
     "output_type": "stream",
     "text": [
      "선택 정렬 성능 측정: 0.002992391586303711\n"
     ]
    }
   ],
   "source": [
    "# 선택 정렬 프로그램 성능 측정\n",
    "start_time = time.time()\n",
    "\n",
    "# 기본 정렬 라이브러리 사용\n",
    "array.sort()\n",
    "\n",
    "end_time = time.time()\n",
    "print(\"선택 정렬 성능 측정:\", end_time - start_time)"
   ]
  },
  {
   "cell_type": "code",
   "execution_count": null,
   "id": "6d67f2eb",
   "metadata": {},
   "outputs": [],
   "source": []
  },
  {
   "cell_type": "code",
   "execution_count": null,
   "id": "22d45d46",
   "metadata": {},
   "outputs": [],
   "source": []
  },
  {
   "cell_type": "markdown",
   "id": "bbb63f13",
   "metadata": {},
   "source": [
    "# 거스름돈"
   ]
  },
  {
   "cell_type": "markdown",
   "id": "ddd67bb2",
   "metadata": {},
   "source": [
    "동전 개수가 최소가 되도록 거스름돈 계산"
   ]
  },
  {
   "cell_type": "code",
   "execution_count": 34,
   "id": "9b5c1b21",
   "metadata": {},
   "outputs": [],
   "source": [
    "n = 1260"
   ]
  },
  {
   "cell_type": "code",
   "execution_count": 35,
   "id": "3e6fd598",
   "metadata": {},
   "outputs": [],
   "source": [
    "count  = 0\n",
    "coin_types = [500, 100, 50, 10]"
   ]
  },
  {
   "cell_type": "code",
   "execution_count": 36,
   "id": "af0447d2",
   "metadata": {},
   "outputs": [
    {
     "name": "stdout",
     "output_type": "stream",
     "text": [
      "2\n",
      "4\n",
      "5\n",
      "6\n"
     ]
    }
   ],
   "source": [
    "for coin in coin_types:\n",
    "    count += n // coin\n",
    "    n %= coin\n",
    "    print(count)"
   ]
  },
  {
   "cell_type": "code",
   "execution_count": null,
   "id": "3e8284b2",
   "metadata": {},
   "outputs": [],
   "source": []
  }
 ],
 "metadata": {
  "kernelspec": {
   "display_name": "Python 3",
   "language": "python",
   "name": "python3"
  },
  "language_info": {
   "codemirror_mode": {
    "name": "ipython",
    "version": 3
   },
   "file_extension": ".py",
   "mimetype": "text/x-python",
   "name": "python",
   "nbconvert_exporter": "python",
   "pygments_lexer": "ipython3",
   "version": "3.8.8"
  }
 },
 "nbformat": 4,
 "nbformat_minor": 5
}
