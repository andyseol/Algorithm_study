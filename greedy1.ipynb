{
 "cells": [
  {
   "cell_type": "markdown",
   "id": "75d03eb9",
   "metadata": {},
   "source": [
    "# 거스름돈"
   ]
  },
  {
   "cell_type": "markdown",
   "id": "86c70121",
   "metadata": {},
   "source": [
    "동전 개수가 최소가 되도록 거스름돈 계산"
   ]
  },
  {
   "cell_type": "code",
   "execution_count": 1,
   "id": "6bf98d53",
   "metadata": {},
   "outputs": [],
   "source": [
    "n = 1260"
   ]
  },
  {
   "cell_type": "code",
   "execution_count": 2,
   "id": "0b67ff4a",
   "metadata": {},
   "outputs": [],
   "source": [
    "count  = 0\n",
    "coin_types = [500, 100, 50, 10]"
   ]
  },
  {
   "cell_type": "code",
   "execution_count": 3,
   "id": "a9ad2aba",
   "metadata": {},
   "outputs": [
    {
     "name": "stdout",
     "output_type": "stream",
     "text": [
      "2\n",
      "4\n",
      "5\n",
      "6\n"
     ]
    }
   ],
   "source": [
    "for coin in coin_types:\n",
    "    count += n // coin\n",
    "    n %= coin\n",
    "    print(count)"
   ]
  },
  {
   "cell_type": "code",
   "execution_count": null,
   "id": "6210a975",
   "metadata": {},
   "outputs": [],
   "source": []
  },
  {
   "cell_type": "markdown",
   "id": "50c3da53",
   "metadata": {},
   "source": [
    "# 큰 수의 법칙"
   ]
  },
  {
   "cell_type": "markdown",
   "id": "d81d9e45",
   "metadata": {},
   "source": [
    "N크기의 자연수 배열에 대하여, 그 배열의 요소를 M번 더하여 가장 큰 수를 만들기. 단, 특정 요소는 연속하여 K번을 초과할 수 없다."
   ]
  },
  {
   "cell_type": "code",
   "execution_count": 4,
   "id": "7a43afbd",
   "metadata": {},
   "outputs": [
    {
     "name": "stdout",
     "output_type": "stream",
     "text": [
      "set n, m, k: 5 8 3\n",
      "set array: 2 4 5 4 6\n"
     ]
    }
   ],
   "source": [
    "n, m, k = map(int, input(\"set n, m, k: \").split())\n",
    "data = list(map(int, input(\"set array: \").split()))"
   ]
  },
  {
   "cell_type": "code",
   "execution_count": 5,
   "id": "31ef99aa",
   "metadata": {},
   "outputs": [],
   "source": [
    "n, m, k = 5, 8, 3\n",
    "data = [2, 4, 5, 4, 6]"
   ]
  },
  {
   "cell_type": "code",
   "execution_count": 6,
   "id": "5e4aa01b",
   "metadata": {},
   "outputs": [],
   "source": [
    "data.sort()"
   ]
  },
  {
   "cell_type": "code",
   "execution_count": 7,
   "id": "32fd8530",
   "metadata": {},
   "outputs": [],
   "source": [
    "first = data[n-1]\n",
    "second = data[n-2]"
   ]
  },
  {
   "cell_type": "markdown",
   "id": "f61672ae",
   "metadata": {},
   "source": [
    "### 답안1"
   ]
  },
  {
   "cell_type": "code",
   "execution_count": 8,
   "id": "72b95fbf",
   "metadata": {},
   "outputs": [
    {
     "name": "stdout",
     "output_type": "stream",
     "text": [
      "46\n"
     ]
    }
   ],
   "source": [
    "result = 0\n",
    "while True:\n",
    "    for i in range(k):\n",
    "        if m == 0:\n",
    "            break\n",
    "        result += first\n",
    "        m -= 1\n",
    "    if m == 0:\n",
    "        break\n",
    "    result += second\n",
    "    m -= 1\n",
    "    \n",
    "print(result)"
   ]
  },
  {
   "cell_type": "markdown",
   "id": "051d4945",
   "metadata": {},
   "source": [
    "### 답안2"
   ]
  },
  {
   "cell_type": "code",
   "execution_count": 9,
   "id": "0db7efbb",
   "metadata": {},
   "outputs": [],
   "source": [
    "count= int(m / (k + 1)) * k\n",
    "count += m % (k + 1)"
   ]
  },
  {
   "cell_type": "code",
   "execution_count": 10,
   "id": "f3c88f1d",
   "metadata": {},
   "outputs": [
    {
     "name": "stdout",
     "output_type": "stream",
     "text": [
      "0\n"
     ]
    }
   ],
   "source": [
    "result = 0\n",
    "result += count * first\n",
    "result += (m - count) * second\n",
    "print(result)"
   ]
  },
  {
   "cell_type": "code",
   "execution_count": null,
   "id": "a8943209",
   "metadata": {},
   "outputs": [],
   "source": []
  }
 ],
 "metadata": {
  "kernelspec": {
   "display_name": "Python 3",
   "language": "python",
   "name": "python3"
  },
  "language_info": {
   "codemirror_mode": {
    "name": "ipython",
    "version": 3
   },
   "file_extension": ".py",
   "mimetype": "text/x-python",
   "name": "python",
   "nbconvert_exporter": "python",
   "pygments_lexer": "ipython3",
   "version": "3.8.8"
  }
 },
 "nbformat": 4,
 "nbformat_minor": 5
}
