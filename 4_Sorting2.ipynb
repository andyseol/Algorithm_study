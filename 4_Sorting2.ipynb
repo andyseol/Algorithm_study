{
 "cells": [
  {
   "cell_type": "markdown",
   "id": "7ee54322",
   "metadata": {},
   "source": [
    "# 위에서 아래로"
   ]
  },
  {
   "cell_type": "markdown",
   "id": "e83c1e79",
   "metadata": {},
   "source": [
    "수열을 내림차순으로 정렬\n",
    "\n",
    "입력: (1행) 수의 개수 N / (2행~) 정렬하고자 하는 수\n",
    "\n",
    "출력: 내림차순으로 정렬된 수"
   ]
  },
  {
   "cell_type": "code",
   "execution_count": 1,
   "id": "b4eaa9a4",
   "metadata": {},
   "outputs": [
    {
     "name": "stdout",
     "output_type": "stream",
     "text": [
      "3\n",
      "77\n",
      "55\n",
      "88\n"
     ]
    }
   ],
   "source": [
    "n = int(input())\n",
    "\n",
    "array = []\n",
    "for i in range(n):\n",
    "    array.append(int(input()))"
   ]
  },
  {
   "cell_type": "code",
   "execution_count": 2,
   "id": "ea27ac0e",
   "metadata": {},
   "outputs": [
    {
     "name": "stdout",
     "output_type": "stream",
     "text": [
      "88 77 55 "
     ]
    }
   ],
   "source": [
    "array = sorted(array, reverse=True)\n",
    "\n",
    "for i in array:\n",
    "    print(i, end=' ')"
   ]
  },
  {
   "cell_type": "code",
   "execution_count": null,
   "id": "c719bf5a",
   "metadata": {},
   "outputs": [],
   "source": []
  },
  {
   "cell_type": "markdown",
   "id": "cf3181e6",
   "metadata": {},
   "source": [
    "# 성적이 낮은 순서로 학생 출력하기"
   ]
  },
  {
   "cell_type": "markdown",
   "id": "d0ddb5c7",
   "metadata": {},
   "source": [
    "입력: (1행) 학생수 N / (2행~) 홍길동 95 ...\n",
    "\n",
    "출력: 성적이 낮은 순서(오름차순)으로 학생 이름 출력"
   ]
  },
  {
   "cell_type": "markdown",
   "id": "e73debaa",
   "metadata": {},
   "source": [
    "### 답안(S)"
   ]
  },
  {
   "cell_type": "code",
   "execution_count": 3,
   "id": "75bf87ab",
   "metadata": {},
   "outputs": [
    {
     "name": "stdout",
     "output_type": "stream",
     "text": [
      "3\n",
      "input name, grade: 영희 77\n",
      "input name, grade: 길동 55\n",
      "input name, grade: 철수 88\n"
     ]
    }
   ],
   "source": [
    "n = int(input())\n",
    "array = []\n",
    "for i in range(n):\n",
    "    array.append(list(input(\"input name, grade: \").split()))"
   ]
  },
  {
   "cell_type": "code",
   "execution_count": 4,
   "id": "6aa24bcd",
   "metadata": {},
   "outputs": [],
   "source": [
    "def setting(data):\n",
    "    data[1] = int(data[1])\n",
    "    return data[1]"
   ]
  },
  {
   "cell_type": "code",
   "execution_count": 5,
   "id": "c0fcbdf8",
   "metadata": {},
   "outputs": [
    {
     "name": "stdout",
     "output_type": "stream",
     "text": [
      "길동 영희 철수 "
     ]
    }
   ],
   "source": [
    "result = sorted(array, key=setting)\n",
    "for i in range(n):\n",
    "    print(result[i][0], end=' ')"
   ]
  },
  {
   "cell_type": "markdown",
   "id": "358595ef",
   "metadata": {},
   "source": [
    "### 답안1"
   ]
  },
  {
   "cell_type": "code",
   "execution_count": 6,
   "id": "9351c20d",
   "metadata": {},
   "outputs": [
    {
     "name": "stdout",
     "output_type": "stream",
     "text": [
      "3\n",
      "영희 77\n",
      "길동 55\n",
      "철수 88\n"
     ]
    }
   ],
   "source": [
    "n = int(input())\n",
    "array = []\n",
    "for i in range(n):\n",
    "    input_data = input().split()\n",
    "    array.append((input_data[0], int(input_data[1])))"
   ]
  },
  {
   "cell_type": "code",
   "execution_count": 7,
   "id": "3fa4fcdd",
   "metadata": {},
   "outputs": [
    {
     "name": "stdout",
     "output_type": "stream",
     "text": [
      "길동 영희 철수 "
     ]
    }
   ],
   "source": [
    "array = sorted(array, key=lambda student: student[1])\n",
    "for student in array:\n",
    "    print(student[0], end=' ')"
   ]
  },
  {
   "cell_type": "code",
   "execution_count": null,
   "id": "6f5e99ac",
   "metadata": {},
   "outputs": [],
   "source": []
  },
  {
   "cell_type": "markdown",
   "id": "6408798a",
   "metadata": {},
   "source": [
    "# 두 배열의 원소 교체"
   ]
  },
  {
   "cell_type": "markdown",
   "id": "aed1182e",
   "metadata": {},
   "source": [
    "N개의 자연수 원소로 구성된 배열 A, B에 대하여, 최대 K번의 바꿔치기 연산. A의 원소의 합이 최대가 되도록 한다.\n",
    "\n",
    "입력: (1행) N K / (2행) 배열 A / (3행) 배열 B\n",
    "\n",
    "출력: 바꿔치기 연산 수행후, 연산 가능한 A의 원소의 합의 최댓값"
   ]
  },
  {
   "cell_type": "code",
   "execution_count": 8,
   "id": "0ab23541",
   "metadata": {},
   "outputs": [
    {
     "name": "stdout",
     "output_type": "stream",
     "text": [
      "set n, k: 5 3\n",
      "set A: 1 2 5 4 3\n",
      "set B: 5 5 6 6 5\n"
     ]
    }
   ],
   "source": [
    "n, k = map(int, input(\"set n, k: \").split())\n",
    "a = list(map(int, input(\"set A: \").split()))\n",
    "b = list(map(int, input(\"set B: \").split()))"
   ]
  },
  {
   "cell_type": "code",
   "execution_count": 9,
   "id": "d5774e2d",
   "metadata": {},
   "outputs": [],
   "source": [
    "a.sort()\n",
    "b.sort(reverse=True)"
   ]
  },
  {
   "cell_type": "code",
   "execution_count": 10,
   "id": "c597f627",
   "metadata": {},
   "outputs": [
    {
     "name": "stdout",
     "output_type": "stream",
     "text": [
      "[6, 6, 5, 4, 5]\n",
      "26\n"
     ]
    }
   ],
   "source": [
    "for i in range(k):\n",
    "    if a[i] < b[i]:\n",
    "        a[i], b[i] = b[i], a[i]\n",
    "    else:\n",
    "        break\n",
    "\n",
    "print(a)\n",
    "print(sum(a))"
   ]
  },
  {
   "cell_type": "code",
   "execution_count": null,
   "id": "4462f4c8",
   "metadata": {},
   "outputs": [],
   "source": []
  }
 ],
 "metadata": {
  "kernelspec": {
   "display_name": "Python 3",
   "language": "python",
   "name": "python3"
  },
  "language_info": {
   "codemirror_mode": {
    "name": "ipython",
    "version": 3
   },
   "file_extension": ".py",
   "mimetype": "text/x-python",
   "name": "python",
   "nbconvert_exporter": "python",
   "pygments_lexer": "ipython3",
   "version": "3.8.8"
  }
 },
 "nbformat": 4,
 "nbformat_minor": 5
}
