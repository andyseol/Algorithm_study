{
 "cells": [
  {
   "cell_type": "markdown",
   "id": "7ee54322",
   "metadata": {},
   "source": [
    "# '구현'의 범위(Coverage)\n",
    "1. 완전 탐색(Exhaustive Search)\n",
    "2. 시뮬레이션(Simulation)"
   ]
  },
  {
   "cell_type": "code",
   "execution_count": null,
   "id": "362e3ccd",
   "metadata": {},
   "outputs": [],
   "source": []
  },
  {
   "cell_type": "code",
   "execution_count": null,
   "id": "019177ae",
   "metadata": {},
   "outputs": [],
   "source": []
  },
  {
   "cell_type": "code",
   "execution_count": null,
   "id": "ae3a1e8a",
   "metadata": {},
   "outputs": [],
   "source": []
  },
  {
   "cell_type": "code",
   "execution_count": null,
   "id": "fe68baf2",
   "metadata": {},
   "outputs": [],
   "source": []
  },
  {
   "cell_type": "code",
   "execution_count": null,
   "id": "a65859ea",
   "metadata": {},
   "outputs": [],
   "source": []
  },
  {
   "cell_type": "code",
   "execution_count": null,
   "id": "d0decdf2",
   "metadata": {},
   "outputs": [],
   "source": []
  },
  {
   "cell_type": "code",
   "execution_count": null,
   "id": "14552903",
   "metadata": {},
   "outputs": [],
   "source": []
  },
  {
   "cell_type": "code",
   "execution_count": null,
   "id": "7f772322",
   "metadata": {},
   "outputs": [],
   "source": []
  },
  {
   "cell_type": "code",
   "execution_count": null,
   "id": "b56d84fd",
   "metadata": {},
   "outputs": [],
   "source": []
  },
  {
   "cell_type": "code",
   "execution_count": null,
   "id": "91b56185",
   "metadata": {},
   "outputs": [],
   "source": []
  },
  {
   "cell_type": "markdown",
   "id": "75d03eb9",
   "metadata": {},
   "source": [
    "# 상하좌우"
   ]
  },
  {
   "cell_type": "markdown",
   "id": "86c70121",
   "metadata": {},
   "source": [
    "N x N의 공간. 여행자는 (1, 1)에서 출발. 도착지의 좌표를 구하기.\n",
    "\n",
    "입력1: N의 크기\n",
    "\n",
    "입력2: 여행 계획 (R, L, U, D)\n",
    "\n",
    "출력: 도착지 좌표"
   ]
  },
  {
   "cell_type": "code",
   "execution_count": 1,
   "id": "20827a2f",
   "metadata": {},
   "outputs": [
    {
     "name": "stdout",
     "output_type": "stream",
     "text": [
      "set N: 5\n",
      "r r u d\n"
     ]
    }
   ],
   "source": [
    "n = int(input(\"set N: \"))\n",
    "x, y = 1, 1\n",
    "plans = input().split()"
   ]
  },
  {
   "cell_type": "code",
   "execution_count": 2,
   "id": "106ea711",
   "metadata": {},
   "outputs": [],
   "source": [
    "dx = [0, 0, -1, 1]\n",
    "dy = [-1, 1, 0, 0]\n",
    "move_types = ['l', 'r', 'u', 'd']"
   ]
  },
  {
   "cell_type": "code",
   "execution_count": 3,
   "id": "66a37bcb",
   "metadata": {},
   "outputs": [
    {
     "name": "stdout",
     "output_type": "stream",
     "text": [
      "2 3\n"
     ]
    }
   ],
   "source": [
    "for plan in plans:\n",
    "    for i in range(len(move_types)):\n",
    "        if plan == move_types[i]:\n",
    "            nx = x + dx[i]\n",
    "            ny = y + dy[i]\n",
    "    \n",
    "    if nx < 1 or ny < 1 or nx > n or ny > n:\n",
    "        continue\n",
    "        \n",
    "    x, y = nx, ny\n",
    "\n",
    "print(x, y)"
   ]
  },
  {
   "cell_type": "code",
   "execution_count": null,
   "id": "bdc037af",
   "metadata": {},
   "outputs": [],
   "source": []
  },
  {
   "cell_type": "markdown",
   "id": "cce4ec29",
   "metadata": {},
   "source": [
    "# 시각"
   ]
  },
  {
   "cell_type": "markdown",
   "id": "6c7b1878",
   "metadata": {},
   "source": [
    "정수 N 입력. 00시 00분 00초부터 N시 59분 59초까지의 모든 시각 중 3이 하나라도 보함되는 경우의 수를 구하기."
   ]
  },
  {
   "cell_type": "code",
   "execution_count": 4,
   "id": "c5705ef1",
   "metadata": {},
   "outputs": [
    {
     "name": "stdout",
     "output_type": "stream",
     "text": [
      "set N: 5\n"
     ]
    }
   ],
   "source": [
    "h = int(input(\"set N: \"))\n",
    "count = 0"
   ]
  },
  {
   "cell_type": "code",
   "execution_count": 5,
   "id": "34d8042d",
   "metadata": {},
   "outputs": [
    {
     "name": "stdout",
     "output_type": "stream",
     "text": [
      "11475\n"
     ]
    }
   ],
   "source": [
    "for i in range(h + 1):\n",
    "    for j in range(60):\n",
    "        for k in range(60):\n",
    "            if '3' in str(i) + str(j) + str(k):\n",
    "                count += 1\n",
    "                \n",
    "print(count)"
   ]
  },
  {
   "cell_type": "markdown",
   "id": "0f4c1ae6",
   "metadata": {},
   "source": [
    "### 문제 세분화: 00초~N초라면?"
   ]
  },
  {
   "cell_type": "code",
   "execution_count": 6,
   "id": "6b1fda4f",
   "metadata": {},
   "outputs": [
    {
     "name": "stdout",
     "output_type": "stream",
     "text": [
      "set N: 39\n"
     ]
    }
   ],
   "source": [
    "sec = int(input(\"set N: \"))\n",
    "count = 0"
   ]
  },
  {
   "cell_type": "code",
   "execution_count": 7,
   "id": "492c4136",
   "metadata": {},
   "outputs": [
    {
     "name": "stdout",
     "output_type": "stream",
     "text": [
      "13\n"
     ]
    }
   ],
   "source": [
    "for i in range(sec + 1):\n",
    "    if '3' in str(i):\n",
    "        count += 1\n",
    "print(count)"
   ]
  },
  {
   "cell_type": "code",
   "execution_count": null,
   "id": "983f6a96",
   "metadata": {},
   "outputs": [],
   "source": []
  },
  {
   "cell_type": "markdown",
   "id": "9268616b",
   "metadata": {},
   "source": [
    "# 왕실의 나이트"
   ]
  },
  {
   "cell_type": "markdown",
   "id": "1fad97c3",
   "metadata": {},
   "source": [
    "8 x 8 체스판 (1-8행, a-h열). 나이트의 이동범위.\n",
    "1. 수평 2칸 + 수직 1칸\n",
    "2. 수직 2칸 + 수평 1칸\n",
    "\n",
    "입력된 좌표(예: a1)에서 나이트가 이동할 수 있는 경우의 수를 출력."
   ]
  },
  {
   "cell_type": "code",
   "execution_count": 8,
   "id": "42c984a0",
   "metadata": {},
   "outputs": [
    {
     "name": "stdout",
     "output_type": "stream",
     "text": [
      "c2\n"
     ]
    }
   ],
   "source": [
    "input_data = input()\n",
    "row = int(input_data[1])\n",
    "column = int(ord(input_data[0])) - int(ord('a')) + 1"
   ]
  },
  {
   "cell_type": "code",
   "execution_count": 9,
   "id": "dfd20e2d",
   "metadata": {},
   "outputs": [],
   "source": [
    "steps = [(-2, -1), (-1, -2), (1, -2), (2, -1), (2, 1), (1, 2), (-1, 2), (-2, 1)]"
   ]
  },
  {
   "cell_type": "code",
   "execution_count": 10,
   "id": "8e481959",
   "metadata": {},
   "outputs": [
    {
     "name": "stdout",
     "output_type": "stream",
     "text": [
      "6\n"
     ]
    }
   ],
   "source": [
    "result = 0\n",
    "for step in steps:\n",
    "    next_row = row + step[0]\n",
    "    next_column = column + step[1]\n",
    "    if next_row >= 1 and next_row <= 8 and next_column >= 1 and next_column <= 8:\n",
    "        result += 1\n",
    "print(result)    "
   ]
  },
  {
   "cell_type": "code",
   "execution_count": null,
   "id": "7cf9f7a9",
   "metadata": {},
   "outputs": [],
   "source": []
  },
  {
   "cell_type": "markdown",
   "id": "fa771f90",
   "metadata": {},
   "source": [
    "# 게임 개발"
   ]
  },
  {
   "cell_type": "markdown",
   "id": "1f8e96c8",
   "metadata": {},
   "source": [
    "일단 건너뛰어~"
   ]
  }
 ],
 "metadata": {
  "kernelspec": {
   "display_name": "Python 3",
   "language": "python",
   "name": "python3"
  },
  "language_info": {
   "codemirror_mode": {
    "name": "ipython",
    "version": 3
   },
   "file_extension": ".py",
   "mimetype": "text/x-python",
   "name": "python",
   "nbconvert_exporter": "python",
   "pygments_lexer": "ipython3",
   "version": "3.8.8"
  }
 },
 "nbformat": 4,
 "nbformat_minor": 5
}
