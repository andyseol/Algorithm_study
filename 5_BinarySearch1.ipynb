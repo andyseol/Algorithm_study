{
 "cells": [
  {
   "cell_type": "markdown",
   "id": "7ee54322",
   "metadata": {},
   "source": [
    "# 이진 탐색(Binary Search)"
   ]
  },
  {
   "cell_type": "markdown",
   "id": "04aa59fb",
   "metadata": {},
   "source": [
    "### 순차 탐색(Sequential Search)"
   ]
  },
  {
   "cell_type": "code",
   "execution_count": 1,
   "id": "61abf6e9",
   "metadata": {},
   "outputs": [],
   "source": [
    "def sequential_search(n, target, array):\n",
    "    for i in range(n):\n",
    "        if array[i] == target:\n",
    "            return i + 1"
   ]
  },
  {
   "cell_type": "code",
   "execution_count": 2,
   "id": "9742e553",
   "metadata": {},
   "outputs": [],
   "source": [
    "# input_data = input(\"원소 개수, 찾을 문자열: \").split()\n",
    "# array = input(\"전체 문자열: \").split()\n",
    "\n",
    "input_data = ['5', 'a']\n",
    "array = ['e', 'a', 'b', 'd', 'c']"
   ]
  },
  {
   "cell_type": "code",
   "execution_count": 3,
   "id": "e5542ce7",
   "metadata": {},
   "outputs": [
    {
     "name": "stdout",
     "output_type": "stream",
     "text": [
      "2\n"
     ]
    }
   ],
   "source": [
    "n = int(input_data[0])\n",
    "target = input_data[1]\n",
    "\n",
    "print(sequential_search(n, target, array))"
   ]
  },
  {
   "cell_type": "code",
   "execution_count": null,
   "id": "4a4ad6b6",
   "metadata": {},
   "outputs": [],
   "source": []
  },
  {
   "cell_type": "markdown",
   "id": "0dc87f85",
   "metadata": {},
   "source": [
    "### 이진 탐색(Binary Search): 재귀 함수"
   ]
  },
  {
   "cell_type": "code",
   "execution_count": 4,
   "id": "c71853fc",
   "metadata": {},
   "outputs": [],
   "source": [
    "# n, target = list(map(int, input(\"원소 개수, 찾을 문자열: \").split()))\n",
    "# array = list(map(int, input(\"전체 문자열: \").split()))\n",
    "\n",
    "n = 10\n",
    "target = 7\n",
    "array = [x+1 for x in range(10)]"
   ]
  },
  {
   "cell_type": "code",
   "execution_count": 5,
   "id": "9fbcece5",
   "metadata": {},
   "outputs": [],
   "source": [
    "def binary_search_rec(array, target, start, end):\n",
    "    if start > end:\n",
    "        return None\n",
    "    mid = (start + end) // 2\n",
    "    if array[mid] == target:\n",
    "        return mid\n",
    "    elif array[mid] > target:\n",
    "        return binary_search_rec(array, target, start, mid - 1)\n",
    "    else:\n",
    "        return binary_search_rec(array, target, mid + 1, end)"
   ]
  },
  {
   "cell_type": "code",
   "execution_count": 6,
   "id": "7c3df344",
   "metadata": {},
   "outputs": [
    {
     "name": "stdout",
     "output_type": "stream",
     "text": [
      "7\n"
     ]
    }
   ],
   "source": [
    "result = binary_search_rec(array, target, 0, n - 1)\n",
    "if result == None:\n",
    "    print(\"원소 없음\")\n",
    "else:\n",
    "    print(result + 1)"
   ]
  },
  {
   "cell_type": "code",
   "execution_count": null,
   "id": "0a2b0fe9",
   "metadata": {},
   "outputs": [],
   "source": []
  },
  {
   "cell_type": "markdown",
   "id": "4b027a82",
   "metadata": {},
   "source": [
    "### 이진 탐색(Binary Search): 반복문"
   ]
  },
  {
   "cell_type": "code",
   "execution_count": 7,
   "id": "4f0ab918",
   "metadata": {},
   "outputs": [],
   "source": [
    "def binary_search_iter(array, target, start, end):\n",
    "    while start <= end:\n",
    "        mid = (start + end) // 2\n",
    "        if array[mid] == target:\n",
    "            return mid\n",
    "        elif array[mid] > target:\n",
    "            end = mid - 1\n",
    "        else:\n",
    "            start = mid + 1\n",
    "    return None"
   ]
  },
  {
   "cell_type": "code",
   "execution_count": 8,
   "id": "a2055fb2",
   "metadata": {},
   "outputs": [
    {
     "name": "stdout",
     "output_type": "stream",
     "text": [
      "7\n"
     ]
    }
   ],
   "source": [
    "result = binary_search_iter(array, target, 0, n - 1)\n",
    "if result == None:\n",
    "    print(\"원소 없음\")\n",
    "else:\n",
    "    print(result + 1)"
   ]
  },
  {
   "cell_type": "code",
   "execution_count": null,
   "id": "b3406aaa",
   "metadata": {},
   "outputs": [],
   "source": []
  },
  {
   "cell_type": "markdown",
   "id": "c0dc2a21",
   "metadata": {},
   "source": [
    "### ※ 빠르게 입력받기"
   ]
  },
  {
   "cell_type": "code",
   "execution_count": 9,
   "id": "438d8f8c",
   "metadata": {},
   "outputs": [
    {
     "name": "stdout",
     "output_type": "stream",
     "text": [
      "\n"
     ]
    }
   ],
   "source": [
    "import sys\n",
    "input_data = sys.stdin.readline().rstrip()\n",
    "print(input_data)"
   ]
  },
  {
   "cell_type": "code",
   "execution_count": null,
   "id": "d51370f0",
   "metadata": {},
   "outputs": [],
   "source": []
  }
 ],
 "metadata": {
  "kernelspec": {
   "display_name": "Python 3",
   "language": "python",
   "name": "python3"
  },
  "language_info": {
   "codemirror_mode": {
    "name": "ipython",
    "version": 3
   },
   "file_extension": ".py",
   "mimetype": "text/x-python",
   "name": "python",
   "nbconvert_exporter": "python",
   "pygments_lexer": "ipython3",
   "version": "3.8.8"
  }
 },
 "nbformat": 4,
 "nbformat_minor": 5
}
