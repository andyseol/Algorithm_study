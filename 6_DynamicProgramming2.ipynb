{
 "cells": [
  {
   "cell_type": "markdown",
   "id": "dbfa6040",
   "metadata": {},
   "source": [
    "# 1로 만들기"
   ]
  },
  {
   "cell_type": "markdown",
   "id": "cb25e53c",
   "metadata": {},
   "source": [
    "정수 X에 대하여 다음 연산 수행\n",
    "1. X가 5로 나누어떨어지면, 5로 나눈다.\n",
    "2. X가 3로 나누어떨어지면, 3로 나눈다.\n",
    "3. X가 2로 나누어떨어지면, 2로 나눈다.\n",
    "4. X에서 1을 뺀다\n",
    "\n",
    "입력: 정수 X\n",
    "\n",
    "출력: 연산 횟수의 최솟값"
   ]
  },
  {
   "cell_type": "markdown",
   "id": "c7fe6059",
   "metadata": {},
   "source": [
    "※점화식: a(i) = min( a(i-1), a(i/2), a(i/3), a(i/5) ) + 1"
   ]
  },
  {
   "cell_type": "code",
   "execution_count": 1,
   "id": "f78304da",
   "metadata": {},
   "outputs": [],
   "source": [
    "# x = int(input())\n",
    "x = 26"
   ]
  },
  {
   "cell_type": "code",
   "execution_count": 2,
   "id": "8fdf77e9",
   "metadata": {},
   "outputs": [
    {
     "name": "stdout",
     "output_type": "stream",
     "text": [
      "3\n"
     ]
    }
   ],
   "source": [
    "d = [0] * 30001\n",
    "\n",
    "for i in range(2, x + 1):\n",
    "    d[i] = d[i - 1] + 1\n",
    "    if i % 2 == 0:\n",
    "        d[i] = min(d[i], d[i // 2] + 1)\n",
    "    if i % 3 == 0:\n",
    "        d[i] = min(d[i], d[i // 3] + 1)\n",
    "    if i % 5 == 0:\n",
    "        d[i] = min(d[i], d[i // 5] + 1)\n",
    "\n",
    "print(d[x])"
   ]
  },
  {
   "cell_type": "code",
   "execution_count": null,
   "id": "b01184da",
   "metadata": {},
   "outputs": [],
   "source": []
  },
  {
   "cell_type": "markdown",
   "id": "501f9a02",
   "metadata": {},
   "source": [
    "# 개미 전사"
   ]
  },
  {
   "cell_type": "markdown",
   "id": "9974a2bc",
   "metadata": {},
   "source": [
    "개미 전사가 메뚜기 마을의 식량창고를 몰래 약탈하려고 한다.\n",
    "\n",
    "식량창고는 일직선으로 위치. 한 칸 이상 떨어진 식량창고를 약탈해야 함.\n",
    "\n",
    "입력: (1행) 식량창고의 개수 N / (2행) 식량창고에 저장된 개수 K\n",
    "\n",
    "출력: 개미 전사가 얻을 수 있는 식량의 최댓값"
   ]
  },
  {
   "cell_type": "markdown",
   "id": "d034e36d",
   "metadata": {},
   "source": [
    "※점화식: a(i) = max( a(i-1), a(i-2) + k(i) )"
   ]
  },
  {
   "cell_type": "code",
   "execution_count": 3,
   "id": "c6bd9850",
   "metadata": {},
   "outputs": [],
   "source": [
    "# n = int(input())\n",
    "n = 5\n",
    "\n",
    "# array = list(map(int, input().split()))\n",
    "array = [1, 3, 1, 5, 9]"
   ]
  },
  {
   "cell_type": "code",
   "execution_count": 4,
   "id": "64ff9418",
   "metadata": {},
   "outputs": [
    {
     "name": "stdout",
     "output_type": "stream",
     "text": [
      "[1, 0, 0, 0, 0, 0, 0, 0, 0, 0]\n",
      "[1, 3, 0, 0, 0, 0, 0, 0, 0, 0]\n",
      "[1, 3, 3, 0, 0, 0, 0, 0, 0, 0]\n",
      "[1, 3, 3, 8, 0, 0, 0, 0, 0, 0]\n",
      "[1, 3, 3, 8, 12, 0, 0, 0, 0, 0]\n",
      "12\n"
     ]
    }
   ],
   "source": [
    "d = [0] * 10\n",
    "\n",
    "d[0] = array[0]\n",
    "print(d)\n",
    "d[1] = max(array[0], array[1])\n",
    "print(d)\n",
    "for i in range(2, n):\n",
    "    d[i] = max(d[i - 1], d[i - 2] + array[i])\n",
    "    print(d)\n",
    "    \n",
    "print(d[n - 1])"
   ]
  },
  {
   "cell_type": "code",
   "execution_count": null,
   "id": "ec30b50d",
   "metadata": {},
   "outputs": [],
   "source": []
  },
  {
   "cell_type": "markdown",
   "id": "24470c42",
   "metadata": {},
   "source": [
    "# 바닥 공사"
   ]
  },
  {
   "cell_type": "markdown",
   "id": "242d2d5b",
   "metadata": {},
   "source": [
    "N x 2의 바닥에 타일 시공. 타일은 세 종류(1 x 2, 2 x 1, 2 x 2)\n",
    "\n",
    "입력: N (1 <= N <= 10,00)\n",
    "\n",
    "출력: 바닥을 채우는 모든 경우의 수를 796,796으로 나누 나머지"
   ]
  },
  {
   "cell_type": "markdown",
   "id": "92cd2e80",
   "metadata": {},
   "source": [
    "※점화식: a(i) = a(i-1) + a(i-2) * 2"
   ]
  },
  {
   "cell_type": "code",
   "execution_count": 5,
   "id": "31024bba",
   "metadata": {},
   "outputs": [],
   "source": [
    "# n = int(input())\n",
    "n = 3"
   ]
  },
  {
   "cell_type": "code",
   "execution_count": 6,
   "id": "86fe12fe",
   "metadata": {},
   "outputs": [
    {
     "name": "stdout",
     "output_type": "stream",
     "text": [
      "5\n"
     ]
    }
   ],
   "source": [
    "d = [0] * 1001\n",
    "\n",
    "d[1] = 1\n",
    "d[2] = 3\n",
    "for i in range(3, n + 1):\n",
    "    d[i] = (d[i - 1] + 2 * d[i - 2]) % 796796\n",
    "    \n",
    "print(d[n])"
   ]
  },
  {
   "cell_type": "code",
   "execution_count": null,
   "id": "6d7418ea",
   "metadata": {},
   "outputs": [],
   "source": []
  },
  {
   "cell_type": "markdown",
   "id": "d9122cb0",
   "metadata": {},
   "source": [
    "# 효율적인 화폐 구성"
   ]
  },
  {
   "cell_type": "markdown",
   "id": "ea6b9042",
   "metadata": {},
   "source": [
    "N가지 종류의 화폐 개수를 최소한으로 이용하여 그 가치의 합이 M원이 되도록\n",
    "\n",
    "입력: (1행) N, M / (2행~) 각 화폐의 가치\n",
    "\n",
    "출력: M원을 만들기 위한 최소한의 화폐 개수. 불가능할 경우 -1을 출력."
   ]
  },
  {
   "cell_type": "markdown",
   "id": "a4f1b677",
   "metadata": {},
   "source": [
    "※점화식\n",
    "- a(i-k)를 만드는 방법이 존재하는 경우: a(i) = min( a(i), a(i-k) + 1 )\n",
    "- a(i-k)를 만드는 방법이 존재하지 않는 경우: a(i) = 10,001"
   ]
  },
  {
   "cell_type": "code",
   "execution_count": 7,
   "id": "9ba2f967",
   "metadata": {},
   "outputs": [],
   "source": [
    "# n, m = map(int, input().split())\n",
    "n, m = 2, 15"
   ]
  },
  {
   "cell_type": "code",
   "execution_count": 8,
   "id": "8c75d4aa",
   "metadata": {},
   "outputs": [],
   "source": [
    "# array = []\n",
    "# for i in range(n):\n",
    "#     array.append(int(input()))\n",
    "array = [2, 3]"
   ]
  },
  {
   "cell_type": "code",
   "execution_count": 9,
   "id": "e44976d5",
   "metadata": {},
   "outputs": [
    {
     "name": "stdout",
     "output_type": "stream",
     "text": [
      "5\n"
     ]
    }
   ],
   "source": [
    "d = [10001] * (m + 1)\n",
    "\n",
    "d[0] = 0\n",
    "for i in range(n):\n",
    "    for j in range(array[i], m + 1):\n",
    "        if d[j - array[i]] != 10001:\n",
    "            d[j] = min(d[j], d[j - array[i]] + 1)\n",
    "            \n",
    "if d[m] == 10001:\n",
    "    print(-1)\n",
    "else:\n",
    "    print(d[m])"
   ]
  },
  {
   "cell_type": "code",
   "execution_count": null,
   "id": "6ed7e7ff",
   "metadata": {},
   "outputs": [],
   "source": []
  }
 ],
 "metadata": {
  "kernelspec": {
   "display_name": "Python 3",
   "language": "python",
   "name": "python3"
  },
  "language_info": {
   "codemirror_mode": {
    "name": "ipython",
    "version": 3
   },
   "file_extension": ".py",
   "mimetype": "text/x-python",
   "name": "python",
   "nbconvert_exporter": "python",
   "pygments_lexer": "ipython3",
   "version": "3.8.8"
  }
 },
 "nbformat": 4,
 "nbformat_minor": 5
}
