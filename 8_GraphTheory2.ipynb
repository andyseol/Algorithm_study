{
 "cells": [
  {
   "cell_type": "markdown",
   "id": "8edf9999",
   "metadata": {},
   "source": [
    "# 팀 결성"
   ]
  },
  {
   "cell_type": "markdown",
   "id": "e90f8531",
   "metadata": {},
   "source": [
    "처음에는 각자 다른 팀인 0~N번의 학생에 대하여 다음 연산을 수행.\n",
    "1. 팀 합치기: 두 팀 합치기\n",
    "2. 같은 팀 여부 확인: 특정한 두 학생이 같은 팀인지 확인\n",
    "\n",
    "M개의 연산을 수행할 때, '같은 팀 여부 확인' 연산에 대한 연산 결과 출력\n",
    "\n",
    "입력: (1행) N, M / (2행~) 각각의 연산(팀 합치기: 0 a b / 같은 팀 여부 확인: 1 a b)\n",
    "\n",
    "출력: 같은 팀 여부 확인 연산에 대하여 한 줄에 하나씩 YES 또는 NO를 출력"
   ]
  },
  {
   "cell_type": "code",
   "execution_count": 1,
   "id": "43f64536",
   "metadata": {},
   "outputs": [],
   "source": [
    "'특정 원소가 속한 집합을 찾기: 경로 압축(Path Compression)'\n",
    "def find_parent(parent, x):\n",
    "    if parent[x] != x:\n",
    "        parent[x] = find_parent(parent, parent[x])\n",
    "    return parent[x]\n",
    "\n",
    "'두 원소가 속한 집합을 합치기'\n",
    "def union_parent(parent, a, b):\n",
    "    a = find_parent(parent, a)\n",
    "    b = find_parent(parent, b)\n",
    "    if a < b:\n",
    "        parent[b] = a\n",
    "    else:\n",
    "        parent[a] = b"
   ]
  },
  {
   "cell_type": "code",
   "execution_count": 2,
   "id": "bf4f570a",
   "metadata": {},
   "outputs": [
    {
     "name": "stdout",
     "output_type": "stream",
     "text": [
      "7 8\n"
     ]
    }
   ],
   "source": [
    "n, m = map(int, input().split())\n",
    "parent = [0] * (n + 1)\n",
    "\n",
    "'부모 테이블에서 부모를 자기 노드로 초기화'\n",
    "for i in range(0, n + 1):\n",
    "    parent[i] = i"
   ]
  },
  {
   "cell_type": "code",
   "execution_count": 3,
   "id": "f7e388bf",
   "metadata": {},
   "outputs": [
    {
     "name": "stdout",
     "output_type": "stream",
     "text": [
      "0 1 3\n",
      "1 1 7\n",
      "NO\n",
      "0 7 6\n",
      "1 7 1\n",
      "NO\n",
      "0 3 7\n",
      "0 4 2\n",
      "0 1 1\n",
      "1 1 1\n",
      "YES\n"
     ]
    }
   ],
   "source": [
    "'각 연산을 하나씩 확인'\n",
    "for i in range(m):\n",
    "    oper, a, b = map(int, input().split())\n",
    "    \n",
    "    if oper == 0:\n",
    "        union_parent(parent, a, b)\n",
    "    elif oper == 1:\n",
    "        if find_parent(parent, a) == find_parent(parent, b):\n",
    "            print(\"YES\")\n",
    "        else:\n",
    "            print(\"NO\")"
   ]
  },
  {
   "cell_type": "code",
   "execution_count": null,
   "id": "0dacab8e",
   "metadata": {},
   "outputs": [],
   "source": []
  },
  {
   "cell_type": "markdown",
   "id": "3551daf6",
   "metadata": {},
   "source": [
    "# 도시 분할 계획"
   ]
  },
  {
   "cell_type": "markdown",
   "id": "85d3cc90",
   "metadata": {},
   "source": [
    "마을에는 N개의 집과 M개의 길. 이 마을을 두 개로 분리하려고 한다. 마을 사이의 길을 철거.\n",
    "\n",
    "조건: 임의의 두 집 사이에 항상 경로가 존재해야 함. 길의 유지비가 최소한이 되도록.\n",
    "\n",
    "입력: (1행) N, M / (2행~) A, B, C (A집과 B집을 연결하는 길의 유지비가 C)\n",
    "\n",
    "출력: 유지비의 최솟값\n",
    "\n",
    "※팁: 최소 신장 트리를 찾은 뒤에 최대 비용의 간선을 제거"
   ]
  },
  {
   "cell_type": "code",
   "execution_count": 4,
   "id": "65e2b1a7",
   "metadata": {},
   "outputs": [],
   "source": [
    "'특정 원소가 속한 집합을 찾기: 경로 압축(Path Compression)'\n",
    "def find_parent(parent, x):\n",
    "    if parent[x] != x:\n",
    "        parent[x] = find_parent(parent, parent[x])\n",
    "    return parent[x]\n",
    "\n",
    "'두 원소가 속한 집합을 합치기'\n",
    "def union_parent(parent, a, b):\n",
    "    a = find_parent(parent, a)\n",
    "    b = find_parent(parent, b)\n",
    "    if a < b:\n",
    "        parent[b] = a\n",
    "    else:\n",
    "        parent[a] = b"
   ]
  },
  {
   "cell_type": "code",
   "execution_count": 5,
   "id": "bd023392",
   "metadata": {},
   "outputs": [],
   "source": [
    "'노드의 개수와 간선의 개수 입력받기'\n",
    "# v, e = map(int, input().split())\n",
    "v, e = 7, 12\n",
    "parent = [0] * (v + 1)\n",
    "\n",
    "'부모 테이블에서 부모를 자기 노드로 초기화'\n",
    "for i in range(1, v + 1):\n",
    "    parent[i] = i"
   ]
  },
  {
   "cell_type": "code",
   "execution_count": 6,
   "id": "07ed591c",
   "metadata": {},
   "outputs": [],
   "source": [
    "'모든 간선을 담을 리스트와 최종 비용을 담을 변수'\n",
    "edges = []\n",
    "result = 0\n",
    "\n",
    "'모든 간선에 대한 정보를 입력받기'\n",
    "# for _ in range(e):\n",
    "#     a, b, cost = map(int, input().split())\n",
    "#     edges.append((cost, a, b))\n",
    "    \n",
    "edges = [(3, 1, 2),\n",
    " (2, 1, 3),\n",
    " (1, 3, 2),\n",
    " (2, 2, 5),\n",
    " (4, 3, 4),\n",
    " (6, 7, 3),\n",
    " (5, 5, 1),\n",
    " (2, 1, 6),\n",
    " (1, 6, 4),\n",
    " (3, 6, 5),\n",
    " (3, 4, 5),\n",
    " (4, 6, 7)]"
   ]
  },
  {
   "cell_type": "code",
   "execution_count": 7,
   "id": "af814072",
   "metadata": {},
   "outputs": [
    {
     "name": "stdout",
     "output_type": "stream",
     "text": [
      "8\n"
     ]
    }
   ],
   "source": [
    "'간선을 비용 순으로 정렬'\n",
    "edges.sort()\n",
    "last = 0    # 최소 신장 트리에서 가장 비용이 큰 간선\n",
    "\n",
    "'간선을 하나씩 확인하여'\n",
    "for edge in edges:\n",
    "    cost, a, b = edge\n",
    "    '사이클이 발생하지 않는 경우에만 집합에 포함'\n",
    "    if find_parent(parent, a) != find_parent(parent, b):\n",
    "        union_parent(parent, a, b)\n",
    "        result += cost\n",
    "        last = cost\n",
    "        \n",
    "print(result - last)"
   ]
  },
  {
   "cell_type": "code",
   "execution_count": null,
   "id": "d05855d3",
   "metadata": {},
   "outputs": [],
   "source": []
  },
  {
   "cell_type": "markdown",
   "id": "efe587de",
   "metadata": {},
   "source": [
    "# 커리큘럼"
   ]
  },
  {
   "cell_type": "markdown",
   "id": "de20ad0c",
   "metadata": {},
   "source": [
    "1~N번의 강의. 중복 수강 가능. 단, 선수 강의를 앞질러 수강할 수 없다.\n",
    "\n",
    "입력: (1행) N / (2행~) A B -1 (해당 강의에 대하여 수강 시간 A, 선수 강의 B)\n",
    "\n",
    "출력: N개의 강의를 수강하기 위한 최소 시간"
   ]
  },
  {
   "cell_type": "code",
   "execution_count": 8,
   "id": "db678f5f",
   "metadata": {},
   "outputs": [],
   "source": [
    "from collections import deque\n",
    "import copy"
   ]
  },
  {
   "cell_type": "code",
   "execution_count": 9,
   "id": "2576153d",
   "metadata": {},
   "outputs": [],
   "source": [
    "# v = int(input())\n",
    "v = 5\n",
    "\n",
    "'모든 노드에 대하여 진입차수를 0으로 초기화'\n",
    "indegree = [0] * (v + 1)\n",
    "\n",
    "'각 노드에 연결된 간선 정보를 담기 위한 연결 리스트 초기화'\n",
    "graph = [[] for i in range(v + 1)]\n",
    "\n",
    "'각 강의 시간을 초기화'\n",
    "time = [0] * (v + 1)"
   ]
  },
  {
   "cell_type": "code",
   "execution_count": 10,
   "id": "95ecb7f6",
   "metadata": {},
   "outputs": [],
   "source": [
    "'유향 그래프의 모든 간선 정보를 입력받기'\n",
    "# for i in range(1, v + 1):\n",
    "#     data = list(map(int, input().split()))\n",
    "#     time[i] = data[0]\n",
    "#     for x in data[1:-1]:\n",
    "#         indegree[i] += 1\n",
    "#         graph[x].append(i)\n",
    "        \n",
    "time = [0, 10, 10, 4, 4, 3]\n",
    "indegree = [0, 0, 1, 1, 2, 1]\n",
    "graph = [[], [2, 3, 4], [], [4, 5], [], []]"
   ]
  },
  {
   "cell_type": "code",
   "execution_count": 11,
   "id": "7d1f67d8",
   "metadata": {},
   "outputs": [],
   "source": [
    "'위상 정렬 함수'\n",
    "def topology_sort():\n",
    "    result = copy.deepcopy(time)\n",
    "    q = deque()\n",
    "    \n",
    "    for i in range(1, v + 1):\n",
    "        if indegree[i] == 0:\n",
    "            q.append(i)\n",
    "    \n",
    "    while q:\n",
    "        now = q.popleft()\n",
    "        for i in graph[now]:\n",
    "            result[i] = max(result[i], result[now] + time[i])\n",
    "            indegree[i] -= 1\n",
    "            if indegree[i] == 0:\n",
    "                q.append(i)\n",
    "                \n",
    "    '결과 출력'       \n",
    "    for i in range(1, v + 1):\n",
    "        print(result[i])"
   ]
  },
  {
   "cell_type": "code",
   "execution_count": 12,
   "id": "5b1efb5f",
   "metadata": {},
   "outputs": [
    {
     "name": "stdout",
     "output_type": "stream",
     "text": [
      "10\n",
      "20\n",
      "14\n",
      "18\n",
      "17\n"
     ]
    }
   ],
   "source": [
    "topology_sort()"
   ]
  },
  {
   "cell_type": "code",
   "execution_count": null,
   "id": "985f4aa6",
   "metadata": {},
   "outputs": [],
   "source": []
  }
 ],
 "metadata": {
  "kernelspec": {
   "display_name": "Python 3",
   "language": "python",
   "name": "python3"
  },
  "language_info": {
   "codemirror_mode": {
    "name": "ipython",
    "version": 3
   },
   "file_extension": ".py",
   "mimetype": "text/x-python",
   "name": "python",
   "nbconvert_exporter": "python",
   "pygments_lexer": "ipython3",
   "version": "3.8.8"
  }
 },
 "nbformat": 4,
 "nbformat_minor": 5
}
