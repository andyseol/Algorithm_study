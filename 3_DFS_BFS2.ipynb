{
 "cells": [
  {
   "cell_type": "markdown",
   "id": "7ee54322",
   "metadata": {},
   "source": [
    "# 음료수 얼려 먹기"
   ]
  },
  {
   "cell_type": "markdown",
   "id": "8ef9d8c1",
   "metadata": {},
   "source": [
    "N x M 크기의 얼음틀. 0이 구멍, 1이 칸막이.\n",
    "\n",
    "입력: (1행) N M / (2행~) 얼음틀의 형태(0 1의 N x M 행렬)\n",
    "\n",
    "출력: 한 번에 만들 수 있는 아이스크림 개수"
   ]
  },
  {
   "cell_type": "code",
   "execution_count": 1,
   "id": "5bc17654",
   "metadata": {},
   "outputs": [],
   "source": [
    "# n, m = map(int, input().split())\n",
    "# graph = []\n",
    "# for i in range(n):\n",
    "#     graph.append(list(map(int, input())))\n",
    "\n",
    "n, m = 3, 3\n",
    "graph = [[0, 0, 1], [0, 1, 0], [1, 0, 1]]"
   ]
  },
  {
   "cell_type": "code",
   "execution_count": 2,
   "id": "a4c4ff91",
   "metadata": {},
   "outputs": [],
   "source": [
    "def dfs(x, y):\n",
    "    if x <= -1 or x >= n or y <= -1 or y >= m:\n",
    "        return False\n",
    "    if graph[x][y] == 0: # if the node is not visited\n",
    "        graph[x][y] = 1 # set the node as visited\n",
    "        dfs(x - 1, y)\n",
    "        dfs(x, y - 1)\n",
    "        dfs(x + 1, y)\n",
    "        dfs(x, y + 1)\n",
    "        return True\n",
    "    return False"
   ]
  },
  {
   "cell_type": "code",
   "execution_count": 3,
   "id": "f523e90a",
   "metadata": {},
   "outputs": [
    {
     "name": "stdout",
     "output_type": "stream",
     "text": [
      "3\n"
     ]
    }
   ],
   "source": [
    "result = 0\n",
    "for i in range(n):\n",
    "    for j in range(m):\n",
    "        if dfs(i, j) == True:\n",
    "            result += 1\n",
    "print(result)"
   ]
  },
  {
   "cell_type": "code",
   "execution_count": null,
   "id": "16ea298a",
   "metadata": {},
   "outputs": [],
   "source": []
  },
  {
   "cell_type": "markdown",
   "id": "1cd6123c",
   "metadata": {},
   "source": [
    "# 미로 탈출 ※어렵네..."
   ]
  },
  {
   "cell_type": "markdown",
   "id": "6c66bc37",
   "metadata": {},
   "source": [
    "N x M 크기의 01 미로. 1로만 움질일 수 있음. 입구는 (1, 1), 출구는 (N, M). \n",
    "\n",
    "입력: (1행) N M / (2행~) 미로의 형태(0 1의 N x M 행렬)\n",
    "\n",
    "출력: 미로를 탈출하기 위한 최소 칸의 개수"
   ]
  },
  {
   "cell_type": "code",
   "execution_count": 4,
   "id": "8dc38f1c",
   "metadata": {},
   "outputs": [],
   "source": [
    "# n, m = map(int, input().split())\n",
    "# graph = []\n",
    "# for i in range(n):\n",
    "#     graph.append(list(map(int, input())))\n",
    "\n",
    "n, m = 5, 6\n",
    "graph = [[1, 0, 1, 0, 1, 0],\n",
    " [1, 1, 1, 1, 1, 1],\n",
    " [0, 0, 0, 0, 0, 1],\n",
    " [1, 1, 1, 1, 1, 1],\n",
    " [1, 1, 1, 1, 1, 1]]"
   ]
  },
  {
   "cell_type": "code",
   "execution_count": 5,
   "id": "eff37b56",
   "metadata": {},
   "outputs": [],
   "source": [
    "from collections import deque\n",
    "\n",
    "dx = [-1, 1, 0, 0]\n",
    "dy = [0, 0, -1, 1]"
   ]
  },
  {
   "cell_type": "code",
   "execution_count": 6,
   "id": "3d7a346e",
   "metadata": {},
   "outputs": [],
   "source": [
    "def bfs(x, y):\n",
    "    queue = deque()\n",
    "    queue.append((x, y))\n",
    "    while queue:\n",
    "        x, y = queue.popleft()       \n",
    "        for i in range(4):\n",
    "            nx = x + dx[i]\n",
    "            ny = y + dy[i]\n",
    "            if nx < 0 or ny < 0 or nx >= n or ny >= m:\n",
    "                continue\n",
    "            if graph[nx][ny] == 0:\n",
    "                continue\n",
    "            if graph[nx][ny] == 1:\n",
    "                graph[nx][ny] = graph[x][y] + 1\n",
    "                queue.append((nx, ny))\n",
    "    return graph[n -1][m - 1]"
   ]
  },
  {
   "cell_type": "code",
   "execution_count": 7,
   "id": "27284ccc",
   "metadata": {},
   "outputs": [
    {
     "name": "stdout",
     "output_type": "stream",
     "text": [
      "10\n"
     ]
    }
   ],
   "source": [
    "print(bfs(0, 0))"
   ]
  },
  {
   "cell_type": "code",
   "execution_count": null,
   "id": "a6c448ba",
   "metadata": {},
   "outputs": [],
   "source": []
  }
 ],
 "metadata": {
  "kernelspec": {
   "display_name": "Python 3",
   "language": "python",
   "name": "python3"
  },
  "language_info": {
   "codemirror_mode": {
    "name": "ipython",
    "version": 3
   },
   "file_extension": ".py",
   "mimetype": "text/x-python",
   "name": "python",
   "nbconvert_exporter": "python",
   "pygments_lexer": "ipython3",
   "version": "3.8.8"
  }
 },
 "nbformat": 4,
 "nbformat_minor": 5
}
