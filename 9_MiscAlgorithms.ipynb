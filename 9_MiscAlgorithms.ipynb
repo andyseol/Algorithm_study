{
 "cells": [
  {
   "cell_type": "markdown",
   "id": "7ee54322",
   "metadata": {},
   "source": [
    "# 기타 알고리즘(Miscellaneous Algorithms)"
   ]
  },
  {
   "cell_type": "markdown",
   "id": "76469419",
   "metadata": {},
   "source": [
    "## 1. 소수의 판별(Prime Number Identification)"
   ]
  },
  {
   "cell_type": "markdown",
   "id": "0a10037f",
   "metadata": {},
   "source": [
    "### (1) 나이브한 방법\n",
    "- O(X)"
   ]
  },
  {
   "cell_type": "code",
   "execution_count": 1,
   "id": "ff15a70a",
   "metadata": {},
   "outputs": [],
   "source": [
    "def is_prime_number(x):\n",
    "    for i in range(2, x):\n",
    "        if x % i == 0:\n",
    "            return False\n",
    "    return True"
   ]
  },
  {
   "cell_type": "code",
   "execution_count": 2,
   "id": "d92478c0",
   "metadata": {},
   "outputs": [
    {
     "name": "stdout",
     "output_type": "stream",
     "text": [
      "True\n",
      "False\n"
     ]
    }
   ],
   "source": [
    "print(is_prime_number(7))\n",
    "print(is_prime_number(9))"
   ]
  },
  {
   "cell_type": "markdown",
   "id": "79fee89f",
   "metadata": {},
   "source": [
    "### (2) 제곱근까지만 약수 확인\n",
    "- O(X^0.5)"
   ]
  },
  {
   "cell_type": "code",
   "execution_count": 3,
   "id": "d4134f17",
   "metadata": {},
   "outputs": [],
   "source": [
    "import math\n",
    "\n",
    "def is_prime_number(x):\n",
    "    for i in range(2, int(math.sqrt(x)) + 1):\n",
    "        if x % i == 0:\n",
    "            return False\n",
    "    return True"
   ]
  },
  {
   "cell_type": "code",
   "execution_count": 4,
   "id": "2cf88127",
   "metadata": {},
   "outputs": [
    {
     "name": "stdout",
     "output_type": "stream",
     "text": [
      "True\n",
      "False\n"
     ]
    }
   ],
   "source": [
    "print(is_prime_number(7))\n",
    "print(is_prime_number(9))"
   ]
  },
  {
   "cell_type": "markdown",
   "id": "79079abb",
   "metadata": {},
   "source": [
    "### (3) 에라토스테네스의 체\n",
    "- O(N log logN)"
   ]
  },
  {
   "cell_type": "code",
   "execution_count": 5,
   "id": "49dabfa5",
   "metadata": {},
   "outputs": [
    {
     "name": "stdout",
     "output_type": "stream",
     "text": [
      "2 3 5 7 11 13 17 19 23 29 31 37 41 43 47 53 59 61 67 71 73 79 83 89 97 101 103 107 109 113 127 131 137 139 149 151 157 163 167 173 179 181 191 193 197 199 211 223 227 229 233 239 241 251 257 263 269 271 277 281 283 293 307 311 313 317 331 337 347 349 353 359 367 373 379 383 389 397 401 409 419 421 431 433 439 443 449 457 461 463 467 479 487 491 499 503 509 521 523 541 547 557 563 569 571 577 587 593 599 601 607 613 617 619 631 641 643 647 653 659 661 673 677 683 691 701 709 719 727 733 739 743 751 757 761 769 773 787 797 809 811 821 823 827 829 839 853 857 859 863 877 881 883 887 907 911 919 929 937 941 947 953 967 971 977 983 991 997 "
     ]
    }
   ],
   "source": [
    "import math\n",
    "\n",
    "n = 1000\n",
    "array = [True for i in range(n + 1)]\n",
    "\n",
    "for i in range(2, int(math.sqrt(n)) + 1):\n",
    "    if array[i] == True:\n",
    "        j = 2\n",
    "        while i * j <= n:\n",
    "            array[i * j] = False\n",
    "            j += 1\n",
    "            \n",
    "for i in range(2, n + 1):\n",
    "    if array[i]:\n",
    "        print(i, end=' ')"
   ]
  },
  {
   "cell_type": "code",
   "execution_count": null,
   "id": "97631c5b",
   "metadata": {},
   "outputs": [],
   "source": []
  },
  {
   "cell_type": "markdown",
   "id": "4f3290ee",
   "metadata": {},
   "source": [
    "## 2. 투 포인터(Two Pointers)\n",
    "리스트에 순차적으로 접근해야 할 때 2개의 점의 위치를 기록하면서 처리"
   ]
  },
  {
   "cell_type": "markdown",
   "id": "1d6c2afc",
   "metadata": {},
   "source": [
    "### (1) 특정한 합을 가지는 부분 연속 수열 찾기\n",
    "※ 조건: 리스트 내 원소에 음수 미포함"
   ]
  },
  {
   "cell_type": "code",
   "execution_count": 6,
   "id": "229aab5d",
   "metadata": {},
   "outputs": [],
   "source": [
    "n = 5    # 데이터의 개수\n",
    "m = 5    # 찾고자 하는 부분합\n",
    "data = [1, 2, 3, 2, 5]"
   ]
  },
  {
   "cell_type": "code",
   "execution_count": 7,
   "id": "6e0af1ac",
   "metadata": {},
   "outputs": [
    {
     "name": "stdout",
     "output_type": "stream",
     "text": [
      "3\n"
     ]
    }
   ],
   "source": [
    "count = 0\n",
    "interval_sum = 0\n",
    "end = 0\n",
    "\n",
    "for start in range(n):\n",
    "    while interval_sum < m and end < n:\n",
    "        interval_sum += data[end]\n",
    "        end += 1\n",
    "    if interval_sum == m:\n",
    "        count += 1\n",
    "    interval_sum -= data[start]\n",
    "    \n",
    "print(count)"
   ]
  },
  {
   "cell_type": "markdown",
   "id": "d2025cd0",
   "metadata": {},
   "source": [
    "### (2) 정렬되어 있는 두 리스트의 합집합\n",
    "※ 병합 정렬에 사용"
   ]
  },
  {
   "cell_type": "code",
   "execution_count": 8,
   "id": "752592bb",
   "metadata": {},
   "outputs": [],
   "source": [
    "n, m = 3, 4\n",
    "a = [1, 3, 5]\n",
    "b = [2, 4, 6, 8]"
   ]
  },
  {
   "cell_type": "code",
   "execution_count": 9,
   "id": "a0cbcb3b",
   "metadata": {},
   "outputs": [
    {
     "name": "stdout",
     "output_type": "stream",
     "text": [
      "[1, 2, 3, 4, 5, 6, 8]\n"
     ]
    }
   ],
   "source": [
    "result = [0] * (n + m)\n",
    "i = 0\n",
    "j = 0\n",
    "k = 0\n",
    "\n",
    "while i < n or j < m:\n",
    "    if j >= m or (i < n and a[i] <= b[j]):\n",
    "        result[k] = a[i]\n",
    "        i += 1\n",
    "    else:\n",
    "        result[k] = b[j]\n",
    "        j += 1\n",
    "    k += 1\n",
    "\n",
    "print(result)"
   ]
  },
  {
   "cell_type": "code",
   "execution_count": null,
   "id": "f1fd8b7c",
   "metadata": {},
   "outputs": [],
   "source": []
  },
  {
   "cell_type": "markdown",
   "id": "87e213e1",
   "metadata": {},
   "source": [
    "## 3. 구간 합 계산"
   ]
  },
  {
   "cell_type": "markdown",
   "id": "5dd9d409",
   "metadata": {},
   "source": [
    "### 접두사 합(Prefix Sum)\n",
    "접두사 합 배열 P에서 L~R의 구간 합은 P[R]-P[L-1]"
   ]
  },
  {
   "cell_type": "code",
   "execution_count": 10,
   "id": "435b8ef4",
   "metadata": {},
   "outputs": [],
   "source": [
    "n = 5\n",
    "data = [10, 20, 30, 40, 50]"
   ]
  },
  {
   "cell_type": "code",
   "execution_count": 11,
   "id": "c443e092",
   "metadata": {},
   "outputs": [
    {
     "name": "stdout",
     "output_type": "stream",
     "text": [
      "[0, 10, 30, 60, 100, 150]\n"
     ]
    }
   ],
   "source": [
    "'접두사 합 배열 작성'\n",
    "sum_value = 0\n",
    "prefix_sum = [0]\n",
    "for i in data:\n",
    "    sum_value += i\n",
    "    prefix_sum.append(sum_value)\n",
    "\n",
    "print(prefix_sum)"
   ]
  },
  {
   "cell_type": "code",
   "execution_count": 12,
   "id": "aa41072a",
   "metadata": {},
   "outputs": [
    {
     "name": "stdout",
     "output_type": "stream",
     "text": [
      "50\n"
     ]
    }
   ],
   "source": [
    "left = 2\n",
    "right = 3\n",
    "print(prefix_sum[right] - prefix_sum[left - 1])"
   ]
  },
  {
   "cell_type": "code",
   "execution_count": null,
   "id": "3d39de1a",
   "metadata": {},
   "outputs": [],
   "source": []
  },
  {
   "cell_type": "markdown",
   "id": "5f25033b",
   "metadata": {},
   "source": [
    "## 4. 순열과 조합(Permutation & Combination)"
   ]
  },
  {
   "cell_type": "code",
   "execution_count": 13,
   "id": "2ce34b08",
   "metadata": {},
   "outputs": [
    {
     "name": "stdout",
     "output_type": "stream",
     "text": [
      "[1, 2] [1, 3] [2, 1] [2, 3] [3, 1] [3, 2] \n",
      "\n",
      "[1, 2] [1, 3] [2, 3] "
     ]
    }
   ],
   "source": [
    "import itertools\n",
    "data = [1, 2, 3]\n",
    "\n",
    "for x in itertools.permutations(data, 2):\n",
    "    print(list(x), end=' ')\n",
    "print('\\n')\n",
    "for x in itertools.combinations(data, 2):\n",
    "    print(list(x), end=' ')"
   ]
  },
  {
   "cell_type": "code",
   "execution_count": null,
   "id": "a4b899fd",
   "metadata": {},
   "outputs": [],
   "source": []
  },
  {
   "cell_type": "markdown",
   "id": "67a2dc79",
   "metadata": {},
   "source": [
    "## 예제1. 소수 구하기"
   ]
  },
  {
   "cell_type": "markdown",
   "id": "6ddb01f7",
   "metadata": {},
   "source": [
    "M 이상 N 이하의 모든 소수를 출력\n",
    "\n",
    "입력: M N (1 <= M <= N <= 1,000,000)\n",
    "\n",
    "출력: 한 줄에 하나씩 오른차순으로 소수 출력"
   ]
  },
  {
   "cell_type": "code",
   "execution_count": 14,
   "id": "04b5a9b8",
   "metadata": {},
   "outputs": [
    {
     "name": "stdout",
     "output_type": "stream",
     "text": [
      "3\n",
      "5\n",
      "7\n",
      "11\n",
      "13\n"
     ]
    }
   ],
   "source": [
    "import math\n",
    "\n",
    "# m, n = map(int, input().split())\n",
    "m, n = 3, 16\n",
    "\n",
    "array = [True for i in range(1000001)]\n",
    "array[1] = 0\n",
    "\n",
    "'에라토스테네스의 체'\n",
    "for i in range(2, int(math.sqrt(n)) + 1):\n",
    "    if array[i] == True:\n",
    "        j = 2\n",
    "        while i * j <= n:\n",
    "            array[i * j] = False\n",
    "            j += 1\n",
    "            \n",
    "for i in range(m, n + 1):\n",
    "    if array[i]:\n",
    "        print(i)"
   ]
  },
  {
   "cell_type": "code",
   "execution_count": null,
   "id": "7d9c572e",
   "metadata": {},
   "outputs": [],
   "source": []
  },
  {
   "cell_type": "markdown",
   "id": "269a190a",
   "metadata": {},
   "source": [
    "## 예제2. 암호 만들기"
   ]
  },
  {
   "cell_type": "markdown",
   "id": "4d33b17d",
   "metadata": {},
   "source": [
    "서로 다른 C개의 알파벳 소문자 중에서, 다음 조건에 따라 길이 C의 암호를 구성.\n",
    "1. 알파벳 오름차순\n",
    "2. 최소 한 개의 모음 및 최소 두 개의 자음으로 구성\n",
    "\n",
    "입력: (1행) L C / (2행) 중복 없는 C개의 알파벳 소문자\n",
    "\n",
    "출력: 한 줄에 하나씩 모든 암호를 출력"
   ]
  },
  {
   "cell_type": "code",
   "execution_count": 15,
   "id": "f842f32f",
   "metadata": {},
   "outputs": [],
   "source": [
    "import itertools\n",
    "vowels = ('a', 'e', 'u', 'e', 'o')"
   ]
  },
  {
   "cell_type": "code",
   "execution_count": 16,
   "id": "3f91631c",
   "metadata": {},
   "outputs": [],
   "source": [
    "# l, c = map(int, input().split())\n",
    "l, c = 4, 6"
   ]
  },
  {
   "cell_type": "code",
   "execution_count": 17,
   "id": "64995af9",
   "metadata": {},
   "outputs": [],
   "source": [
    "# array = input().split()\n",
    "array = ['a', 't', 'c', 'i', 's', 'w']\n",
    "array.sort()"
   ]
  },
  {
   "cell_type": "code",
   "execution_count": 18,
   "id": "ff9a8863",
   "metadata": {},
   "outputs": [
    {
     "name": "stdout",
     "output_type": "stream",
     "text": [
      "acis\n",
      "acit\n",
      "aciw\n",
      "acst\n",
      "acsw\n",
      "actw\n",
      "aist\n",
      "aisw\n",
      "aitw\n",
      "astw\n"
     ]
    }
   ],
   "source": [
    "for password in itertools.combinations(array, l):\n",
    "    count = 0\n",
    "    for i in password:\n",
    "        if i in vowels:\n",
    "            count += 1\n",
    "    \n",
    "    if count >= 1 and count <= l - 2:\n",
    "        print(''.join(password))"
   ]
  },
  {
   "cell_type": "code",
   "execution_count": null,
   "id": "8be2b1cd",
   "metadata": {},
   "outputs": [],
   "source": []
  }
 ],
 "metadata": {
  "kernelspec": {
   "display_name": "Python 3",
   "language": "python",
   "name": "python3"
  },
  "language_info": {
   "codemirror_mode": {
    "name": "ipython",
    "version": 3
   },
   "file_extension": ".py",
   "mimetype": "text/x-python",
   "name": "python",
   "nbconvert_exporter": "python",
   "pygments_lexer": "ipython3",
   "version": "3.8.8"
  }
 },
 "nbformat": 4,
 "nbformat_minor": 5
}
