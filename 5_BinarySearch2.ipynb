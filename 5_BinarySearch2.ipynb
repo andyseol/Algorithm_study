{
 "cells": [
  {
   "cell_type": "markdown",
   "id": "4f1ff920",
   "metadata": {},
   "source": [
    "# 부품 찾기"
   ]
  },
  {
   "cell_type": "markdown",
   "id": "0f1320c9",
   "metadata": {},
   "source": [
    "수열을 내림차순으로 정렬\n",
    "\n",
    "입력: (1행) 정수 N / (2행) 부품 재고 / (3행) 정수 M / (4행) 부품 문의\n",
    "\n",
    "출력: 부품별 재고 유무"
   ]
  },
  {
   "cell_type": "markdown",
   "id": "a5fb0e56",
   "metadata": {},
   "source": [
    "### 답안1: 이진 탐색"
   ]
  },
  {
   "cell_type": "code",
   "execution_count": 1,
   "id": "939a9bf4",
   "metadata": {},
   "outputs": [
    {
     "name": "stdout",
     "output_type": "stream",
     "text": [
      "부품 재고 개수: 5\n",
      "부품 재고: 8 3 7 9 2\n"
     ]
    }
   ],
   "source": [
    "n = int(input(\"부품 재고 개수: \"))\n",
    "array = list(map(int, input(\"부품 재고: \").split()))\n",
    "array.sort()"
   ]
  },
  {
   "cell_type": "code",
   "execution_count": 2,
   "id": "6fb9e89d",
   "metadata": {},
   "outputs": [
    {
     "name": "stdout",
     "output_type": "stream",
     "text": [
      "부품 문의 개수: 3\n",
      "부품 문의: 5 7 9\n"
     ]
    }
   ],
   "source": [
    "m = int(input(\"부품 문의 개수: \"))\n",
    "x = list(map(int, input(\"부품 문의: \").split()))"
   ]
  },
  {
   "cell_type": "code",
   "execution_count": 3,
   "id": "70f41d51",
   "metadata": {},
   "outputs": [],
   "source": [
    "def binary_search_iter(array, target, start, end):\n",
    "    while start <= end:\n",
    "        mid = (start + end) // 2\n",
    "        if array[mid] == target:\n",
    "            return mid\n",
    "        elif array[mid] > target:\n",
    "            end = mid - 1\n",
    "        else:\n",
    "            start = mid + 1\n",
    "    return None"
   ]
  },
  {
   "cell_type": "code",
   "execution_count": 4,
   "id": "80747e25",
   "metadata": {},
   "outputs": [
    {
     "name": "stdout",
     "output_type": "stream",
     "text": [
      "no yes yes "
     ]
    }
   ],
   "source": [
    "for i in x:\n",
    "    result = binary_search_iter(array, i, 0, n - 1)\n",
    "    if result != None:\n",
    "        print('yes', end=' ')\n",
    "    else:\n",
    "        print('no', end=' ')"
   ]
  },
  {
   "cell_type": "markdown",
   "id": "b892d06c",
   "metadata": {},
   "source": [
    "### 답안2: 계수 정렬"
   ]
  },
  {
   "cell_type": "code",
   "execution_count": 5,
   "id": "99f0f805",
   "metadata": {},
   "outputs": [
    {
     "name": "stdout",
     "output_type": "stream",
     "text": [
      "부품 재고 개수: 5\n"
     ]
    }
   ],
   "source": [
    "n = int(input(\"부품 재고 개수: \"))\n",
    "array = [0] * 1000001"
   ]
  },
  {
   "cell_type": "code",
   "execution_count": 6,
   "id": "aa0393f2",
   "metadata": {},
   "outputs": [
    {
     "name": "stdout",
     "output_type": "stream",
     "text": [
      "부품 재고: 8 3 7 9 2\n"
     ]
    }
   ],
   "source": [
    "for i in input(\"부품 재고: \").split():\n",
    "    array[int(i)] = 1"
   ]
  },
  {
   "cell_type": "code",
   "execution_count": 7,
   "id": "02ded485",
   "metadata": {},
   "outputs": [
    {
     "name": "stdout",
     "output_type": "stream",
     "text": [
      "부품 문의 개수: 3\n",
      "부품 문의: 5 7 9\n"
     ]
    }
   ],
   "source": [
    "m = int(input(\"부품 문의 개수: \"))\n",
    "x = list(map(int, input(\"부품 문의: \").split()))"
   ]
  },
  {
   "cell_type": "code",
   "execution_count": 8,
   "id": "c1d145c6",
   "metadata": {},
   "outputs": [
    {
     "name": "stdout",
     "output_type": "stream",
     "text": [
      "no yes yes "
     ]
    }
   ],
   "source": [
    "for i in x:\n",
    "    if array[i] == 1:\n",
    "        print('yes', end=' ')\n",
    "    else:\n",
    "        print('no', end=' ')"
   ]
  },
  {
   "cell_type": "markdown",
   "id": "aca178cb",
   "metadata": {},
   "source": [
    "### 답안2: 집합 자료형"
   ]
  },
  {
   "cell_type": "code",
   "execution_count": 9,
   "id": "02fb33b0",
   "metadata": {},
   "outputs": [
    {
     "name": "stdout",
     "output_type": "stream",
     "text": [
      "부품 재고 개수: 5\n",
      "부품 재고: 8 3 7 9 2\n"
     ]
    }
   ],
   "source": [
    "n = int(input(\"부품 재고 개수: \"))\n",
    "array = set(map(int, input(\"부품 재고: \").split()))"
   ]
  },
  {
   "cell_type": "code",
   "execution_count": 10,
   "id": "b7d97a2c",
   "metadata": {},
   "outputs": [
    {
     "name": "stdout",
     "output_type": "stream",
     "text": [
      "부품 문의 개수: 3\n",
      "부품 문의: 5 7 9\n"
     ]
    }
   ],
   "source": [
    "m = int(input(\"부품 문의 개수: \"))\n",
    "x = list(map(int, input(\"부품 문의: \").split()))"
   ]
  },
  {
   "cell_type": "code",
   "execution_count": 11,
   "id": "1e61d636",
   "metadata": {},
   "outputs": [
    {
     "name": "stdout",
     "output_type": "stream",
     "text": [
      "no yes yes "
     ]
    }
   ],
   "source": [
    "for i in x:\n",
    "    if i in array:\n",
    "        print('yes', end=' ')\n",
    "    else:\n",
    "        print('no', end=' ')"
   ]
  },
  {
   "cell_type": "code",
   "execution_count": null,
   "id": "b57903a3",
   "metadata": {},
   "outputs": [],
   "source": []
  },
  {
   "cell_type": "markdown",
   "id": "fc367528",
   "metadata": {},
   "source": [
    "# 떡볶이 떡 자르기\n",
    "- 파라메트릭 서치: 최적화 문제를 결정 문제로 바꾸어 해결하는 기법\n",
    "- 코드 구현에 있어 재귀보다 반복이 간결하다"
   ]
  },
  {
   "cell_type": "markdown",
   "id": "122c0c67",
   "metadata": {},
   "source": [
    "절단기는 여러 개의 떡을 한번에 자른다\n",
    "\n",
    "입력: (1행) 떡의 개수 N, 요청한 길이 M / (2행) 각각의 떡의 길이\n",
    "\n",
    "출력: 절단기에 설정할 수 있는 길이의 최댓값 H"
   ]
  },
  {
   "cell_type": "code",
   "execution_count": 12,
   "id": "e1924d5f",
   "metadata": {},
   "outputs": [
    {
     "name": "stdout",
     "output_type": "stream",
     "text": [
      "떡의 개수, 요청한 길이: 4 6\n",
      "각각의 떡의 길이: 19 15 10 17\n"
     ]
    }
   ],
   "source": [
    "n, m = list(map(int, input(\"떡의 개수, 요청한 길이: \").split()))\n",
    "array = list(map(int, input(\"각각의 떡의 길이: \").split()))"
   ]
  },
  {
   "cell_type": "code",
   "execution_count": 13,
   "id": "e6e7df21",
   "metadata": {},
   "outputs": [
    {
     "name": "stdout",
     "output_type": "stream",
     "text": [
      "15\n"
     ]
    }
   ],
   "source": [
    "start = 0\n",
    "end = max(array)\n",
    "\n",
    "result = 0\n",
    "while(start <= end):\n",
    "    total = 0\n",
    "    mid = (start + end) // 2\n",
    "    for x in array:\n",
    "        if x > mid:\n",
    "            total += x - mid\n",
    "    \n",
    "    if total < m:\n",
    "        end = mid - 1\n",
    "    else:\n",
    "        result = mid\n",
    "        start = mid + 1\n",
    "        \n",
    "print(result)"
   ]
  },
  {
   "cell_type": "code",
   "execution_count": null,
   "id": "96a98eb6",
   "metadata": {},
   "outputs": [],
   "source": []
  }
 ],
 "metadata": {
  "kernelspec": {
   "display_name": "Python 3",
   "language": "python",
   "name": "python3"
  },
  "language_info": {
   "codemirror_mode": {
    "name": "ipython",
    "version": 3
   },
   "file_extension": ".py",
   "mimetype": "text/x-python",
   "name": "python",
   "nbconvert_exporter": "python",
   "pygments_lexer": "ipython3",
   "version": "3.8.8"
  }
 },
 "nbformat": 4,
 "nbformat_minor": 5
}
