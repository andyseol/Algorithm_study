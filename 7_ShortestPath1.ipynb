{
 "cells": [
  {
   "cell_type": "markdown",
   "id": "7ee54322",
   "metadata": {},
   "source": [
    "# 최단 경로(Shortest Path)"
   ]
  },
  {
   "cell_type": "markdown",
   "id": "76469419",
   "metadata": {},
   "source": [
    "## Dijkstra Algorithm\n",
    "- 음의 간선이 없는 경우\n",
    "- Greedy Algorithm"
   ]
  },
  {
   "cell_type": "markdown",
   "id": "0a10037f",
   "metadata": {},
   "source": [
    "### 1. 간단한 다익스트라 알고리즘\n",
    "- O(V^2)"
   ]
  },
  {
   "cell_type": "code",
   "execution_count": 1,
   "id": "5d96fedd",
   "metadata": {},
   "outputs": [],
   "source": [
    "import sys\n",
    "input = sys.stdin.readline\n",
    "INF = int(1e9)"
   ]
  },
  {
   "cell_type": "code",
   "execution_count": 2,
   "id": "f1f1406a",
   "metadata": {},
   "outputs": [],
   "source": [
    "'노드의 개수, 간선의 개수를 입력'\n",
    "# n, m = map(int, input().split())\n",
    "n, m = 6, 11\n",
    "\n",
    "'시작 노드 번호를 입력'\n",
    "# start = int(input())\n",
    "start = 1\n",
    "\n",
    "'각 노드에 연결되어 있는 노드에 대한 정보를 담는 리스트를 작성'\n",
    "graph = [[] for i in range(n + 1)]\n",
    "\n",
    "'방문한 적이 있는지 체크한는 리스트를 작성'\n",
    "visited = [False] * (n + 1)\n",
    "\n",
    "'최단 거리 테이블을 모두 무한으로 초기화'\n",
    "distance = [INF] * (n + 1)"
   ]
  },
  {
   "cell_type": "code",
   "execution_count": 3,
   "id": "24a33ed9",
   "metadata": {},
   "outputs": [],
   "source": [
    "'모든 간선 정보를 입력'\n",
    "# for _ in range(m):\n",
    "#     a, b, c = map(int, input().split())    # 노드 a -> b의 비용이 c\n",
    "#     graph[a].append((b, c))\n",
    "    \n",
    "graph = [[],\n",
    " [(2, 2), (3, 5), (4, 1)],\n",
    " [(3, 3), (4, 2)],\n",
    " [(2, 3), (6, 5)],\n",
    " [(3, 3), (5, 1)],\n",
    " [(3, 1), (6, 2)],\n",
    " []]"
   ]
  },
  {
   "cell_type": "code",
   "execution_count": 4,
   "id": "1501d492",
   "metadata": {},
   "outputs": [],
   "source": [
    "'방문하지 않은 노드 중에서, 가장 최단 거리가 짧은 노드 번호를 반환'\n",
    "def get_smallest_node():\n",
    "    min_value = INF\n",
    "    index = 0\n",
    "    for i in range(1, n + 1):\n",
    "        if distance[i] < min_value and not visited[i]:\n",
    "            min_value = distance[i]\n",
    "            index = i\n",
    "    return index"
   ]
  },
  {
   "cell_type": "code",
   "execution_count": 5,
   "id": "f89f7bda",
   "metadata": {},
   "outputs": [],
   "source": [
    "def dijkstra(start):\n",
    "    '시작 노드에 대해서 초기화'\n",
    "    distance[start] = 0\n",
    "    visited[start] = True\n",
    "    for j in graph[start]:\n",
    "        distance[j[0]] = j[1]\n",
    "    '시작 노드를 제외한 전체 n - 1개의 노드에 대해 반복'\n",
    "    for i in range(n - 1):\n",
    "        '현재 최단 거리가 가장 짧은 노드를 꺼내서 방문 처리'\n",
    "        now = get_smallest_node()\n",
    "        visited[now] = True\n",
    "        '현재 노드와 연결된 다른 노드를 확인'\n",
    "        for j in graph[now]:\n",
    "            cost = distance[now] + j[1]\n",
    "            '현재 노드를 거쳐서 다른 노드로 이동하는 거리가 더 짧은 경우'\n",
    "            if cost < distance[j[0]]:\n",
    "                distance[j[0]] = cost"
   ]
  },
  {
   "cell_type": "code",
   "execution_count": 6,
   "id": "47242de3",
   "metadata": {},
   "outputs": [
    {
     "name": "stdout",
     "output_type": "stream",
     "text": [
      "0\n",
      "2\n",
      "3\n",
      "1\n",
      "2\n",
      "4\n"
     ]
    }
   ],
   "source": [
    "dijkstra(start)\n",
    "\n",
    "'모든 노드로 가기 위한 최단 거리를 출력'\n",
    "for i in range(1, n + 1):\n",
    "    if distance[i] == INF:\n",
    "        print(\"INFINITY\")\n",
    "    else:\n",
    "        print(distance[i])"
   ]
  },
  {
   "cell_type": "code",
   "execution_count": null,
   "id": "ff06aa9a",
   "metadata": {},
   "outputs": [],
   "source": []
  },
  {
   "cell_type": "markdown",
   "id": "91a4b496",
   "metadata": {},
   "source": [
    "### 2. 개선된 다익스트라 알고리즘\n",
    "- O(E logV)\n",
    "- Priority Queue 적용"
   ]
  },
  {
   "cell_type": "code",
   "execution_count": 7,
   "id": "c7607bce",
   "metadata": {},
   "outputs": [],
   "source": [
    "import heapq\n",
    "import sys\n",
    "input = sys.stdin.readline\n",
    "INF = int(1e9)"
   ]
  },
  {
   "cell_type": "code",
   "execution_count": 8,
   "id": "9ea91d91",
   "metadata": {},
   "outputs": [],
   "source": [
    "'노드의 개수, 간선의 개수를 입력'\n",
    "# n, m = map(int, input().split())\n",
    "n, m = 6, 11\n",
    "\n",
    "'시작 노드 번호를 입력'\n",
    "# start = int(input())\n",
    "start = 1\n",
    "\n",
    "'각 노드에 연결되어 있는 노드에 대한 정보를 담는 리스트를 작성'\n",
    "graph = [[] for i in range(n + 1)]\n",
    "\n",
    "'최단 거리 테이블을 모두 무한으로 초기화'\n",
    "distance = [INF] * (n + 1)"
   ]
  },
  {
   "cell_type": "code",
   "execution_count": 9,
   "id": "d25406ee",
   "metadata": {},
   "outputs": [],
   "source": [
    "'모든 간선 정보를 입력'\n",
    "# for _ in range(m):\n",
    "#     a, b, c = map(int, input().split())    # 노드 a -> b의 비용이 c\n",
    "#     graph[a].append((b, c))\n",
    "    \n",
    "graph = [[],\n",
    " [(2, 2), (3, 5), (4, 1)],\n",
    " [(3, 3), (4, 2)],\n",
    " [(2, 3), (6, 5)],\n",
    " [(3, 3), (5, 1)],\n",
    " [(3, 1), (6, 2)],\n",
    " []]"
   ]
  },
  {
   "cell_type": "code",
   "execution_count": 10,
   "id": "cc9c473b",
   "metadata": {},
   "outputs": [],
   "source": [
    "'(거리, 노드)의 형태로 큐에서 조작'\n",
    "def dijkstra(start):\n",
    "    q = []\n",
    "    '시작 노드로 가기 위한 최단 경로는 0으로 설정하여, 큐에 삽입'\n",
    "    heapq.heappush(q, (0, start))\n",
    "    distance[start] = 0\n",
    "    while q:    # 큐가 비어있지 않다면\n",
    "        '가장 최단 거리가 짧은 노드에 대한 정보 추출'\n",
    "        dist, now = heapq.heappop(q)\n",
    "        '현재 노드가 이미 처리된 적이 있는 노드라면 무시'\n",
    "        if distance[now] < dist:\n",
    "            continue\n",
    "        '현재 노드와 연결된 다른 인접한 노드들을 확인'\n",
    "        for i in graph[now]:\n",
    "            cost = dist + i[1]\n",
    "            '현재 노드를 거쳐서, 다른 노드로 이동하는 거리가 더 짧은 경우'\n",
    "            if cost < distance[i[0]]:\n",
    "                distance[i[0]] = cost\n",
    "                heapq.heappush(q, (cost, i[0]))"
   ]
  },
  {
   "cell_type": "code",
   "execution_count": 11,
   "id": "07b23f17",
   "metadata": {},
   "outputs": [
    {
     "name": "stdout",
     "output_type": "stream",
     "text": [
      "0\n",
      "2\n",
      "3\n",
      "1\n",
      "2\n",
      "4\n"
     ]
    }
   ],
   "source": [
    "dijkstra(start)\n",
    "\n",
    "for i in range(1, n + 1):\n",
    "    if distance[i] == INF:\n",
    "        print(\"INFINITY\")\n",
    "    else:\n",
    "        print(distance[i])"
   ]
  },
  {
   "cell_type": "code",
   "execution_count": null,
   "id": "b466d7ae",
   "metadata": {},
   "outputs": [],
   "source": []
  },
  {
   "cell_type": "markdown",
   "id": "5c4b8ba9",
   "metadata": {},
   "source": [
    "## Floyd-Warshall Algorithm\n",
    "- 모든 지점에서 다른 모든 지점까지의 최단 경로를 모두 구해야 하는 경우\n",
    "- Dynamic Programming\n",
    "\n",
    "※점화식: D(ab) = min( D(ab), D(ak)+D(kb) )"
   ]
  },
  {
   "cell_type": "code",
   "execution_count": 12,
   "id": "db7c13cf",
   "metadata": {},
   "outputs": [],
   "source": [
    "INF = int(1e9)\n",
    "\n",
    "'노드의 개수, 간선의 개수'\n",
    "# n, m = map(int, input().split())\n",
    "n, m = 4, 7"
   ]
  },
  {
   "cell_type": "code",
   "execution_count": 13,
   "id": "bdba5a7c",
   "metadata": {},
   "outputs": [],
   "source": [
    "'2차원 리스트(그래프 표현)을 만들고, 모든 값을 무한으로 초기화'\n",
    "graph = [[INF] * (n + 1) for _ in range(n + 1)]\n",
    "\n",
    "'출발 노드 = 도착 노드인 경우, 비용을 0으로 초기화'\n",
    "for a in range(1, n + 1):\n",
    "    for b in range(1, n + 1):\n",
    "        if a == b:\n",
    "            graph[a][b] = 0\n",
    "            \n",
    "'각 간선에 대한 정보를 입력받아, 그 값으로 초기화'\n",
    "# for _ in range(m):\n",
    "#     '노드 a -> b의 비용은 c'\n",
    "#     a, b, c = map(int, input().split())\n",
    "#     graph[a][b] = c\n",
    "\n",
    "graph = [[1000000000, 1000000000, 1000000000, 1000000000, 1000000000],\n",
    " [1000000000, 0, 4, 1000000000, 6],\n",
    " [1000000000, 3, 0, 7, 1000000000],\n",
    " [1000000000, 5, 1000000000, 0, 4],\n",
    " [1000000000, 1000000000, 1000000000, 2, 0]]"
   ]
  },
  {
   "cell_type": "code",
   "execution_count": 14,
   "id": "b7190a19",
   "metadata": {},
   "outputs": [
    {
     "name": "stdout",
     "output_type": "stream",
     "text": [
      "0 4 8 6 \n",
      "3 0 7 9 \n",
      "5 9 0 4 \n",
      "7 11 2 0 \n"
     ]
    }
   ],
   "source": [
    "'Floyd-Warshall Algorithm'\n",
    "for k in range(1, n + 1):\n",
    "    for a in range(1, n + 1):\n",
    "        for b in range(1, n + 1):\n",
    "            graph[a][b] = min(graph[a][b], graph[a][k] + graph[k][b])\n",
    "            \n",
    "'결과 출력'\n",
    "for a in range(1, n + 1):\n",
    "    for b in range(1, n + 1):\n",
    "        if graph[a][b] == INF:\n",
    "            print(\"INFINITY\", end=\" \")\n",
    "        else:\n",
    "            print(graph[a][b], end=\" \")\n",
    "    print()"
   ]
  },
  {
   "cell_type": "code",
   "execution_count": 15,
   "id": "71d87ec1",
   "metadata": {},
   "outputs": [
    {
     "data": {
      "text/html": [
       "<div>\n",
       "<style scoped>\n",
       "    .dataframe tbody tr th:only-of-type {\n",
       "        vertical-align: middle;\n",
       "    }\n",
       "\n",
       "    .dataframe tbody tr th {\n",
       "        vertical-align: top;\n",
       "    }\n",
       "\n",
       "    .dataframe thead th {\n",
       "        text-align: right;\n",
       "    }\n",
       "</style>\n",
       "<table border=\"1\" class=\"dataframe\">\n",
       "  <thead>\n",
       "    <tr style=\"text-align: right;\">\n",
       "      <th></th>\n",
       "      <th>1</th>\n",
       "      <th>2</th>\n",
       "      <th>3</th>\n",
       "      <th>4</th>\n",
       "    </tr>\n",
       "  </thead>\n",
       "  <tbody>\n",
       "    <tr>\n",
       "      <th>1</th>\n",
       "      <td>0</td>\n",
       "      <td>4</td>\n",
       "      <td>8</td>\n",
       "      <td>6</td>\n",
       "    </tr>\n",
       "    <tr>\n",
       "      <th>2</th>\n",
       "      <td>3</td>\n",
       "      <td>0</td>\n",
       "      <td>7</td>\n",
       "      <td>9</td>\n",
       "    </tr>\n",
       "    <tr>\n",
       "      <th>3</th>\n",
       "      <td>5</td>\n",
       "      <td>9</td>\n",
       "      <td>0</td>\n",
       "      <td>4</td>\n",
       "    </tr>\n",
       "    <tr>\n",
       "      <th>4</th>\n",
       "      <td>7</td>\n",
       "      <td>11</td>\n",
       "      <td>2</td>\n",
       "      <td>0</td>\n",
       "    </tr>\n",
       "  </tbody>\n",
       "</table>\n",
       "</div>"
      ],
      "text/plain": [
       "   1   2  3  4\n",
       "1  0   4  8  6\n",
       "2  3   0  7  9\n",
       "3  5   9  0  4\n",
       "4  7  11  2  0"
      ]
     },
     "execution_count": 15,
     "metadata": {},
     "output_type": "execute_result"
    }
   ],
   "source": [
    "'행렬을 보기 쉽게'\n",
    "import pandas as pd\n",
    "df_graph = pd.DataFrame(graph)\n",
    "df_graph.iloc[1:n+1, 1:n+1]"
   ]
  },
  {
   "cell_type": "code",
   "execution_count": null,
   "id": "4d4efdbc",
   "metadata": {},
   "outputs": [],
   "source": []
  }
 ],
 "metadata": {
  "kernelspec": {
   "display_name": "Python 3",
   "language": "python",
   "name": "python3"
  },
  "language_info": {
   "codemirror_mode": {
    "name": "ipython",
    "version": 3
   },
   "file_extension": ".py",
   "mimetype": "text/x-python",
   "name": "python",
   "nbconvert_exporter": "python",
   "pygments_lexer": "ipython3",
   "version": "3.8.8"
  }
 },
 "nbformat": 4,
 "nbformat_minor": 5
}
