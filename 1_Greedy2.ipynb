{
 "cells": [
  {
   "cell_type": "markdown",
   "id": "75d03eb9",
   "metadata": {},
   "source": [
    "# 숫자 카드 게임"
   ]
  },
  {
   "cell_type": "markdown",
   "id": "86c70121",
   "metadata": {},
   "source": [
    "숫자 카드가 N x M 형태로 배열되어 있다 (자연수, 중복 허용).\n",
    "\n",
    "각 행에서 가장 작은 숫자를 뽑고, 그 중에서 가장 큰 숫자를 출력하기."
   ]
  },
  {
   "cell_type": "code",
   "execution_count": 1,
   "id": "80ffb67c",
   "metadata": {},
   "outputs": [
    {
     "name": "stdout",
     "output_type": "stream",
     "text": [
      "set n, m: 2 3\n"
     ]
    }
   ],
   "source": [
    "n, m = map(int, input(\"set n, m: \").split())"
   ]
  },
  {
   "cell_type": "code",
   "execution_count": 2,
   "id": "4fc843e5",
   "metadata": {},
   "outputs": [
    {
     "name": "stdout",
     "output_type": "stream",
     "text": [
      "2 1 3\n",
      "5 6 7\n",
      "5\n"
     ]
    }
   ],
   "source": [
    "result = 0\n",
    "\n",
    "for i in range(n):\n",
    "    data = list(map(int, input().split()))\n",
    "    min_value = min(data)\n",
    "    result = max(result, min_value)\n",
    "\n",
    "print(result)"
   ]
  },
  {
   "cell_type": "code",
   "execution_count": null,
   "id": "c9e03432",
   "metadata": {},
   "outputs": [],
   "source": []
  },
  {
   "cell_type": "markdown",
   "id": "be0941b0",
   "metadata": {},
   "source": [
    "# 1이 될 때까지"
   ]
  },
  {
   "cell_type": "markdown",
   "id": "4c74a111",
   "metadata": {},
   "source": [
    "임의의 자연수 N이 1이 될 때까지 다음 과정을 수행\n",
    "1. N에서 1을 뺀다.\n",
    "2. N을 K로 나눈다.\n",
    "과정의 최소횟수를 구하기."
   ]
  },
  {
   "cell_type": "markdown",
   "id": "b4f7c506",
   "metadata": {},
   "source": [
    "### 답안(S)"
   ]
  },
  {
   "cell_type": "code",
   "execution_count": 3,
   "id": "3f756563",
   "metadata": {},
   "outputs": [
    {
     "name": "stdout",
     "output_type": "stream",
     "text": [
      "set n, k: 17 4\n"
     ]
    }
   ],
   "source": [
    "n, k = map(int, input(\"set n, k: \").split())\n",
    "result = 0"
   ]
  },
  {
   "cell_type": "code",
   "execution_count": 4,
   "id": "1067062f",
   "metadata": {},
   "outputs": [
    {
     "name": "stdout",
     "output_type": "stream",
     "text": [
      "3\n"
     ]
    }
   ],
   "source": [
    "while n != 1:\n",
    "    if n % k == 0:\n",
    "        n /= k\n",
    "        result += 1\n",
    "    else:\n",
    "        n -= 1\n",
    "        result += 1       \n",
    "print(result)"
   ]
  },
  {
   "cell_type": "markdown",
   "id": "ddc72ad6",
   "metadata": {},
   "source": [
    "### 답안1"
   ]
  },
  {
   "cell_type": "code",
   "execution_count": 5,
   "id": "35a14b70",
   "metadata": {},
   "outputs": [
    {
     "name": "stdout",
     "output_type": "stream",
     "text": [
      "set n, k: 17 4\n"
     ]
    }
   ],
   "source": [
    "n, k = map(int, input(\"set n, k: \").split())\n",
    "result = 0"
   ]
  },
  {
   "cell_type": "code",
   "execution_count": 6,
   "id": "4db33438",
   "metadata": {},
   "outputs": [
    {
     "name": "stdout",
     "output_type": "stream",
     "text": [
      "3\n"
     ]
    }
   ],
   "source": [
    "while True:\n",
    "    target = (n // k) * k\n",
    "    result += (n - target)\n",
    "    n = target\n",
    "    \n",
    "    if n < k:\n",
    "        break\n",
    "        \n",
    "    result += 1\n",
    "    n //= k\n",
    "\n",
    "result += (n - 1)\n",
    "print(result)"
   ]
  },
  {
   "cell_type": "code",
   "execution_count": null,
   "id": "eb6b28cb",
   "metadata": {},
   "outputs": [],
   "source": []
  }
 ],
 "metadata": {
  "kernelspec": {
   "display_name": "Python 3",
   "language": "python",
   "name": "python3"
  },
  "language_info": {
   "codemirror_mode": {
    "name": "ipython",
    "version": 3
   },
   "file_extension": ".py",
   "mimetype": "text/x-python",
   "name": "python",
   "nbconvert_exporter": "python",
   "pygments_lexer": "ipython3",
   "version": "3.8.8"
  }
 },
 "nbformat": 4,
 "nbformat_minor": 5
}
