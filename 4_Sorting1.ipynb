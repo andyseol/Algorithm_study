{
 "cells": [
  {
   "cell_type": "markdown",
   "id": "7ee54322",
   "metadata": {},
   "source": [
    "# 선택 정렬(Selection Sort)\n",
    "- O(N^2)"
   ]
  },
  {
   "cell_type": "code",
   "execution_count": 1,
   "id": "9ede565e",
   "metadata": {},
   "outputs": [],
   "source": [
    "array = [7, 5, 9, 0, 3, 1, 6, 2, 4, 8]"
   ]
  },
  {
   "cell_type": "code",
   "execution_count": 2,
   "id": "d9ce3f48",
   "metadata": {},
   "outputs": [
    {
     "name": "stdout",
     "output_type": "stream",
     "text": [
      "[0, 1, 2, 3, 4, 5, 6, 7, 8, 9]\n"
     ]
    }
   ],
   "source": [
    "for i in range(len(array)):\n",
    "    min_index = i\n",
    "    for j in range(i + 1, len(array)):\n",
    "        if array[min_index] > array[j]:          \n",
    "            min_index = j\n",
    "    array[i], array[min_index] = array[min_index], array[i]    # 스와프\n",
    "\n",
    "print(array)"
   ]
  },
  {
   "cell_type": "code",
   "execution_count": null,
   "id": "438d8f8c",
   "metadata": {},
   "outputs": [],
   "source": []
  },
  {
   "cell_type": "markdown",
   "id": "a4795849",
   "metadata": {},
   "source": [
    "# 삽입 정렬(Insertion Sort)\n",
    "- 평균적으로 O(N^2)\n",
    "- 거의 정렬되어 있는 상태에서 빠르다. O(N)"
   ]
  },
  {
   "cell_type": "code",
   "execution_count": 3,
   "id": "34fce299",
   "metadata": {},
   "outputs": [],
   "source": [
    "array = [7, 5, 9, 0, 3, 1, 6, 2, 4, 8]"
   ]
  },
  {
   "cell_type": "code",
   "execution_count": 4,
   "id": "04cd5771",
   "metadata": {},
   "outputs": [
    {
     "name": "stdout",
     "output_type": "stream",
     "text": [
      "[0, 1, 2, 3, 4, 5, 6, 7, 8, 9]\n"
     ]
    }
   ],
   "source": [
    "for i in range(1, len(array)):\n",
    "    for j in range(i, 0, -1):\n",
    "        if array[j] < array[j - 1]:\n",
    "            array[j], array[j - 1] = array[j - 1], array[j]\n",
    "        else:\n",
    "            break\n",
    "            \n",
    "print(array)"
   ]
  },
  {
   "cell_type": "code",
   "execution_count": null,
   "id": "1d946ae0",
   "metadata": {},
   "outputs": [],
   "source": []
  },
  {
   "cell_type": "markdown",
   "id": "a500b40d",
   "metadata": {},
   "source": [
    "# 퀵 정렬(Quick Sort)\n",
    "- O(N logN)\n",
    "- 거의 정렬되어 있는 상태에서 느리다. O(N^2)"
   ]
  },
  {
   "cell_type": "code",
   "execution_count": 5,
   "id": "df7e2ce6",
   "metadata": {},
   "outputs": [],
   "source": [
    "array = [5, 7, 9, 0, 3, 1, 6, 2, 4, 8]"
   ]
  },
  {
   "cell_type": "code",
   "execution_count": 6,
   "id": "7f76fcce",
   "metadata": {},
   "outputs": [],
   "source": [
    "def quick_sort(array, start, end):\n",
    "    if start >= end:\n",
    "        return\n",
    "    pivot = start\n",
    "    left = start + 1\n",
    "    right = end\n",
    "    while left <= right:\n",
    "        while left <= end and array[left] <= array[pivot]:\n",
    "            left += 1\n",
    "        while right > start and array[right] >= array[pivot]:\n",
    "            right -= 1\n",
    "        if left > right:\n",
    "            array[right], array[pivot] = array[pivot], array[right]\n",
    "        else:\n",
    "            array[left], array[right] = array[right], array[left]\n",
    "    quick_sort(array, start, right - 1)\n",
    "    quick_sort(array, right + 1, end)"
   ]
  },
  {
   "cell_type": "code",
   "execution_count": 7,
   "id": "204b893b",
   "metadata": {},
   "outputs": [
    {
     "name": "stdout",
     "output_type": "stream",
     "text": [
      "[0, 1, 2, 3, 4, 5, 6, 7, 8, 9]\n"
     ]
    }
   ],
   "source": [
    "quick_sort(array, 0, len(array) - 1)\n",
    "print(array)"
   ]
  },
  {
   "cell_type": "markdown",
   "id": "5bc3f40a",
   "metadata": {},
   "source": [
    "### Python의 장점을 살린 퀵 정렬 소스코드"
   ]
  },
  {
   "cell_type": "code",
   "execution_count": 8,
   "id": "a045a2b8",
   "metadata": {},
   "outputs": [],
   "source": [
    "def quick_sort_simple(array):\n",
    "    if len(array) <= 1:\n",
    "        return array\n",
    "    \n",
    "    pivot = array[0]\n",
    "    tail = array[1:]\n",
    "    \n",
    "    left_side = [x for x in tail if x <= pivot]\n",
    "    right_side = [x for x in tail if x > pivot]\n",
    "    \n",
    "    return quick_sort_simple(left_side) + [pivot] + quick_sort_simple(right_side)"
   ]
  },
  {
   "cell_type": "code",
   "execution_count": 9,
   "id": "a30e0602",
   "metadata": {},
   "outputs": [
    {
     "name": "stdout",
     "output_type": "stream",
     "text": [
      "[0, 1, 2, 3, 4, 5, 6, 7, 8, 9]\n"
     ]
    }
   ],
   "source": [
    "print(quick_sort_simple(array))"
   ]
  },
  {
   "cell_type": "code",
   "execution_count": null,
   "id": "b8adb861",
   "metadata": {},
   "outputs": [],
   "source": []
  },
  {
   "cell_type": "markdown",
   "id": "d4f3c0f4",
   "metadata": {},
   "source": [
    "# 계수 정렬(Quick Sort)\n",
    "- 데이터의 크기 범위가 제한되어 정수 형태로 표한할 수 있는 경우에만 사용 가능\n",
    "- 가장 빠르다. 최악의 경우에도 O(N + K). K는 데이터 중 최댓값"
   ]
  },
  {
   "cell_type": "code",
   "execution_count": 10,
   "id": "b4f967c9",
   "metadata": {},
   "outputs": [],
   "source": [
    "array = [7, 5, 9, 0, 3, 1, 6, 2, 9, 1, 4, 8, 0, 5, 2]"
   ]
  },
  {
   "cell_type": "code",
   "execution_count": 11,
   "id": "47da3bda",
   "metadata": {},
   "outputs": [
    {
     "name": "stdout",
     "output_type": "stream",
     "text": [
      "[0, 0, 0, 0, 0, 0, 0, 0, 0, 0]\n",
      "[2, 2, 2, 1, 1, 2, 1, 1, 1, 2]\n",
      "0 0 1 1 2 2 3 4 5 5 6 7 8 9 9 "
     ]
    }
   ],
   "source": [
    "count = [0] * (max(array) + 1)\n",
    "print(count)\n",
    "for i in range(len(array)):\n",
    "    count[array[i]] += 1\n",
    "print(count)\n",
    "for i in range(len(count)):\n",
    "    for j in range(count[i]):\n",
    "        print(i, end=' ')"
   ]
  },
  {
   "cell_type": "code",
   "execution_count": null,
   "id": "c59652e5",
   "metadata": {},
   "outputs": [],
   "source": []
  }
 ],
 "metadata": {
  "kernelspec": {
   "display_name": "Python 3",
   "language": "python",
   "name": "python3"
  },
  "language_info": {
   "codemirror_mode": {
    "name": "ipython",
    "version": 3
   },
   "file_extension": ".py",
   "mimetype": "text/x-python",
   "name": "python",
   "nbconvert_exporter": "python",
   "pygments_lexer": "ipython3",
   "version": "3.8.8"
  }
 },
 "nbformat": 4,
 "nbformat_minor": 5
}
