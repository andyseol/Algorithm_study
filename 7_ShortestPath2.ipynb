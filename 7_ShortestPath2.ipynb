{
 "cells": [
  {
   "cell_type": "markdown",
   "id": "7ee54322",
   "metadata": {},
   "source": [
    "# 미래 도시"
   ]
  },
  {
   "cell_type": "markdown",
   "id": "746ac786",
   "metadata": {},
   "source": [
    "1~N의 회사 중, 1에서 출발하여 K를 경유하여 X에 도착하는 최단 경로. 간선은 양방향이며 비용은 1.\n",
    "\n",
    "입력: (1행) 회사의 개수 N, 경로의 개수 M / (2행~) 연결된 두 회사의 번호 / (M+2행) X와 K\n",
    "\n",
    "출력: 최소 이동 시간. 도달할 수 없는 경우 -1 출력"
   ]
  },
  {
   "cell_type": "code",
   "execution_count": null,
   "id": "cc0dce3c",
   "metadata": {},
   "outputs": [],
   "source": [
    "INF = int(1e9)\n",
    "\n",
    "'노드의 개수, 간선의 개수'\n",
    "n, m = map(int, input().split())"
   ]
  },
  {
   "cell_type": "code",
   "execution_count": null,
   "id": "a331e2ec",
   "metadata": {},
   "outputs": [],
   "source": [
    "'2차원 리스트(그래프 표현)을 만들고, 모든 값을 무한으로 초기화'\n",
    "graph = [[INF] * (n + 1) for _ in range(n + 1)]\n",
    "\n",
    "'출발 노드 = 도착 노드인 경우, 비용을 0으로 초기화'\n",
    "for a in range(1, n + 1):\n",
    "    for b in range(1, n + 1):\n",
    "        if a == b:\n",
    "            graph[a][b] = 0\n",
    "            \n",
    "'각 간선에 대한 정보를 입력받아, 그 값으로 초기화'\n",
    "for _ in range(m):\n",
    "    '노드 a -> b의 비용은 1'\n",
    "    a, b = map(int, input().split())\n",
    "    graph[a][b] = 1\n",
    "    graph[b][a] = 1"
   ]
  },
  {
   "cell_type": "code",
   "execution_count": null,
   "id": "9e9179d9",
   "metadata": {},
   "outputs": [],
   "source": [
    "'X와 K 입력'\n",
    "x, k = map(int, input().split())"
   ]
  },
  {
   "cell_type": "code",
   "execution_count": null,
   "id": "0e5c0979",
   "metadata": {},
   "outputs": [],
   "source": [
    "'Floyd-Warshall Algorithm'\n",
    "for k in range(1, n + 1):\n",
    "    for a in range(1, n + 1):\n",
    "        for b in range(1, n + 1):\n",
    "            graph[a][b] = min(graph[a][b], graph[a][k] + graph[k][b])\n",
    "            \n",
    "'결과 출력'\n",
    "distance = graph[1][k] + graph[k][x]\n",
    "\n",
    "if distance >= INF:\n",
    "    print(\"-1\")\n",
    "elsel:\n",
    "    print(distance)"
   ]
  },
  {
   "cell_type": "code",
   "execution_count": null,
   "id": "a601ec99",
   "metadata": {},
   "outputs": [],
   "source": []
  },
  {
   "cell_type": "markdown",
   "id": "e4f05dc1",
   "metadata": {},
   "source": [
    "# 전보"
   ]
  },
  {
   "cell_type": "markdown",
   "id": "6a445134",
   "metadata": {},
   "source": [
    "C 도시에서 N개의 도시로 전보를 보내려고 한다.\n",
    "\n",
    "입력: (1행) 도시의 개수 N, 통로의 개수 M, 도시 C / (2행~) 도시 X -> Y의 전달 시간은 Z\n",
    "\n",
    "출력: C에서 보낸 메시지를 받는 도시의 총 개수와 걸리는 시간"
   ]
  },
  {
   "cell_type": "code",
   "execution_count": null,
   "id": "f3fe102d",
   "metadata": {},
   "outputs": [],
   "source": [
    "import heapq\n",
    "import sys\n",
    "\n",
    "# input = sys.stdin.readline\n",
    "INF = int(1e9)"
   ]
  },
  {
   "cell_type": "code",
   "execution_count": null,
   "id": "3e9d0069",
   "metadata": {},
   "outputs": [],
   "source": [
    "'노드의 개수, 간선의 개수, 시작 노드를 입력'\n",
    "# n, m, start = map(int, input().split())\n",
    "n, m, start = 3, 2, 1\n",
    "\n",
    "'각 노드에 연결되어 있는 노드에 대한 정보를 담는 리스트를 작성'\n",
    "graph = [[] for i in range(n + 1)]\n",
    "\n",
    "'최단 거리 테이블을 모두 무한으로 초기화'\n",
    "distance = [INF] * (n + 1)"
   ]
  },
  {
   "cell_type": "code",
   "execution_count": null,
   "id": "8010f88f",
   "metadata": {},
   "outputs": [],
   "source": [
    "'모든 간선 정보를 입력'\n",
    "for _ in range(m):\n",
    "    x, y, z = map(int, input().split())    # 노드 a -> b의 비용이 c\n",
    "    graph[x].append((y, z))\n",
    "    \n",
    "graph = [[], [(2, 4), (3, 2)], [], []]"
   ]
  },
  {
   "cell_type": "code",
   "execution_count": null,
   "id": "45e6ba4e",
   "metadata": {},
   "outputs": [],
   "source": [
    "'(거리, 노드)의 형태로 큐에서 조작'\n",
    "def dijkstra(start):\n",
    "    q = []\n",
    "    '시작 노드로 가기 위한 최단 경로는 0으로 설정하여, 큐에 삽입'\n",
    "    heapq.heappush(q, (0, start))\n",
    "    distance[start] = 0\n",
    "    while q:    # 큐가 비어있지 않다면\n",
    "        '가장 최단 거리가 짧은 노드에 대한 정보 추출'\n",
    "        dist, now = heapq.heappop(q)\n",
    "        '현재 노드가 이미 처리된 적이 있는 노드라면 무시'\n",
    "        if distance[now] < dist:\n",
    "            continue\n",
    "        '현재 노드와 연결된 다른 인접한 노드들을 확인'\n",
    "        for i in graph[now]:\n",
    "            cost = dist + i[1]\n",
    "            '현재 노드를 거쳐서, 다른 노드로 이동하는 거리가 더 짧은 경우'\n",
    "            if cost < distance[i[0]]:\n",
    "                distance[i[0]] = cost\n",
    "                heapq.heappush(q, (cost, i[0]))"
   ]
  },
  {
   "cell_type": "code",
   "execution_count": null,
   "id": "bc07c4cd",
   "metadata": {},
   "outputs": [],
   "source": [
    "dijkstra(start)\n",
    "\n",
    "count = 0\n",
    "max_distance = 0\n",
    "for d in distance:\n",
    "    if d != INF:\n",
    "        count += 1\n",
    "        max_distance = max(max_distance, d)\n",
    "        \n",
    "print(count - 1, max_distance)"
   ]
  },
  {
   "cell_type": "code",
   "execution_count": null,
   "id": "774eab55",
   "metadata": {},
   "outputs": [],
   "source": []
  }
 ],
 "metadata": {
  "kernelspec": {
   "display_name": "Python 3",
   "language": "python",
   "name": "python3"
  },
  "language_info": {
   "codemirror_mode": {
    "name": "ipython",
    "version": 3
   },
   "file_extension": ".py",
   "mimetype": "text/x-python",
   "name": "python",
   "nbconvert_exporter": "python",
   "pygments_lexer": "ipython3",
   "version": "3.8.8"
  }
 },
 "nbformat": 4,
 "nbformat_minor": 5
}
