{
 "cells": [
  {
   "cell_type": "markdown",
   "id": "7ee54322",
   "metadata": {},
   "source": [
    "# 그래프의 표현"
   ]
  },
  {
   "cell_type": "markdown",
   "id": "8ef9d8c1",
   "metadata": {},
   "source": [
    "1. 인접 행렬(adjacency matrix)"
   ]
  },
  {
   "cell_type": "code",
   "execution_count": 1,
   "id": "019177ae",
   "metadata": {},
   "outputs": [
    {
     "name": "stdout",
     "output_type": "stream",
     "text": [
      "[[0, 7, 5], [7, 0, 999999999], [5, 999999999, 0]]\n"
     ]
    }
   ],
   "source": [
    "inf = 999999999\n",
    "graph_mat = [\n",
    "    [0, 7, 5],\n",
    "    [7, 0, inf],\n",
    "    [5, inf, 0]\n",
    "]\n",
    "print(graph_mat)"
   ]
  },
  {
   "cell_type": "markdown",
   "id": "eafde0a9",
   "metadata": {},
   "source": [
    "2. 인접 리스트(adjacency list)"
   ]
  },
  {
   "cell_type": "code",
   "execution_count": 2,
   "id": "d0decdf2",
   "metadata": {},
   "outputs": [
    {
     "name": "stdout",
     "output_type": "stream",
     "text": [
      "[[(1, 7), (2, 5)], [(0, 7)], [(0, 5)]]\n"
     ]
    }
   ],
   "source": [
    "graph_list = [[] for _ in range(3)]\n",
    "\n",
    "graph_list[0].append((1, 7))\n",
    "graph_list[0].append((2, 5))\n",
    "\n",
    "graph_list[1].append((0, 7))\n",
    "\n",
    "graph_list[2].append((0, 5))\n",
    "\n",
    "print(graph_list)"
   ]
  },
  {
   "cell_type": "code",
   "execution_count": null,
   "id": "7f772322",
   "metadata": {},
   "outputs": [],
   "source": []
  },
  {
   "cell_type": "markdown",
   "id": "2c7b7cdd",
   "metadata": {},
   "source": [
    "# DFS 예제"
   ]
  },
  {
   "cell_type": "code",
   "execution_count": 3,
   "id": "87693281",
   "metadata": {},
   "outputs": [],
   "source": [
    "def dfs(graph, v, visited):\n",
    "    visited[v] = True\n",
    "    print(v, end=' ')\n",
    "    \n",
    "    for i in graph[v]:\n",
    "        if not visited[i]:\n",
    "            dfs(graph, i, visited)"
   ]
  },
  {
   "cell_type": "code",
   "execution_count": 4,
   "id": "d8a05713",
   "metadata": {},
   "outputs": [],
   "source": [
    "graph = [\n",
    "    [],\n",
    "    [2, 3, 8],\n",
    "    [1, 7],\n",
    "    [1, 4, 5],\n",
    "    [3, 5],\n",
    "    [3, 4],\n",
    "    [7],\n",
    "    [2, 6, 8],\n",
    "    [1, 7]\n",
    "]"
   ]
  },
  {
   "cell_type": "code",
   "execution_count": 5,
   "id": "2d14dc5b",
   "metadata": {},
   "outputs": [],
   "source": [
    "visited = [False] * 9"
   ]
  },
  {
   "cell_type": "code",
   "execution_count": 6,
   "id": "c452374b",
   "metadata": {},
   "outputs": [
    {
     "name": "stdout",
     "output_type": "stream",
     "text": [
      "1 2 7 6 8 3 4 5 "
     ]
    }
   ],
   "source": [
    "dfs(graph,1, visited)"
   ]
  },
  {
   "cell_type": "code",
   "execution_count": null,
   "id": "91b56185",
   "metadata": {},
   "outputs": [],
   "source": []
  },
  {
   "cell_type": "markdown",
   "id": "284f1e65",
   "metadata": {},
   "source": [
    "# BFS 예제"
   ]
  },
  {
   "cell_type": "code",
   "execution_count": 7,
   "id": "a7b37e51",
   "metadata": {},
   "outputs": [],
   "source": [
    "from collections import deque\n",
    "\n",
    "def bfs(graph, start, visited):\n",
    "    queue = deque([start])\n",
    "    visited[start] = True\n",
    "    while queue:\n",
    "        v = queue.popleft()\n",
    "        print(v, end=' ')\n",
    "        for i in graph[v]:\n",
    "            if not visited[i]:\n",
    "                queue.append(i)\n",
    "                visited[i] = True"
   ]
  },
  {
   "cell_type": "code",
   "execution_count": 8,
   "id": "6485c775",
   "metadata": {},
   "outputs": [],
   "source": [
    "graph = [\n",
    "    [],\n",
    "    [2, 3, 8],\n",
    "    [1, 7],\n",
    "    [1, 4, 5],\n",
    "    [3, 5],\n",
    "    [3, 4],\n",
    "    [7],\n",
    "    [2, 6, 8],\n",
    "    [1, 7]\n",
    "]"
   ]
  },
  {
   "cell_type": "code",
   "execution_count": 9,
   "id": "b92cc785",
   "metadata": {},
   "outputs": [
    {
     "name": "stdout",
     "output_type": "stream",
     "text": [
      "1 2 3 8 7 4 5 6 "
     ]
    }
   ],
   "source": [
    "visited = [False] * 9\n",
    "bfs(graph, 1, visited)"
   ]
  },
  {
   "cell_type": "code",
   "execution_count": null,
   "id": "0ae82f45",
   "metadata": {},
   "outputs": [],
   "source": []
  }
 ],
 "metadata": {
  "kernelspec": {
   "display_name": "Python 3",
   "language": "python",
   "name": "python3"
  },
  "language_info": {
   "codemirror_mode": {
    "name": "ipython",
    "version": 3
   },
   "file_extension": ".py",
   "mimetype": "text/x-python",
   "name": "python",
   "nbconvert_exporter": "python",
   "pygments_lexer": "ipython3",
   "version": "3.8.8"
  }
 },
 "nbformat": 4,
 "nbformat_minor": 5
}
