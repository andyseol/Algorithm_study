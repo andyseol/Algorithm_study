{
 "cells": [
  {
   "cell_type": "markdown",
   "id": "7ee54322",
   "metadata": {},
   "source": [
    "# 동적 계획법(Dynamic Programming)\n",
    "DP의 사용 조건\n",
    "1. 큰 문제를 작은 문제로 나눌 수 있다.\n",
    "2. 작은 문제에서 구한 정답은 그것을 포함하는 큰 문제에서도 동일하다."
   ]
  },
  {
   "cell_type": "code",
   "execution_count": 1,
   "id": "61d339dc",
   "metadata": {},
   "outputs": [],
   "source": [
    "import time"
   ]
  },
  {
   "cell_type": "markdown",
   "id": "04aa59fb",
   "metadata": {},
   "source": [
    "### Fibonacci sequence\n",
    "- Without Dynamic Programming"
   ]
  },
  {
   "cell_type": "code",
   "execution_count": 2,
   "id": "5361b74a",
   "metadata": {},
   "outputs": [],
   "source": [
    "def fibo(x):\n",
    "    if x == 1 or x == 2:\n",
    "        return 1\n",
    "    return fibo(x - 1) + fibo(x - 2)"
   ]
  },
  {
   "cell_type": "code",
   "execution_count": 3,
   "id": "1da9c41b",
   "metadata": {},
   "outputs": [
    {
     "name": "stdout",
     "output_type": "stream",
     "text": [
      "3524578\n",
      "0.9877777099609375\n"
     ]
    }
   ],
   "source": [
    "start_time = time.time()\n",
    "fibo(33)\n",
    "end_time = time.time()\n",
    "print(fibo(33))\n",
    "print(end_time - start_time)"
   ]
  },
  {
   "cell_type": "markdown",
   "id": "d41fbecb",
   "metadata": {},
   "source": [
    "### Fibonacci sequence\n",
    "- Top-Down 방식: 재귀 함수 사용\n",
    "- With Memoization (Caching)"
   ]
  },
  {
   "cell_type": "code",
   "execution_count": 4,
   "id": "061cf24b",
   "metadata": {},
   "outputs": [],
   "source": [
    "'List for memoization'\n",
    "d = [0] * 100\n",
    "\n",
    "def fibo_rec(x):\n",
    "    if x == 1 or x == 2:\n",
    "        return 1\n",
    "    if d[x] != 0:\n",
    "        return d[x]\n",
    "    d[x] = fibo_rec(x - 1) + fibo_rec(x - 2)\n",
    "    return d[x]"
   ]
  },
  {
   "cell_type": "code",
   "execution_count": 5,
   "id": "ecb67cfd",
   "metadata": {},
   "outputs": [
    {
     "name": "stdout",
     "output_type": "stream",
     "text": [
      "3524578\n",
      "0.0\n"
     ]
    }
   ],
   "source": [
    "start_time = time.time()\n",
    "fibo_rec(33)\n",
    "end_time = time.time()\n",
    "print(fibo_rec(33))\n",
    "print(end_time - start_time)"
   ]
  },
  {
   "cell_type": "markdown",
   "id": "e7390939",
   "metadata": {},
   "source": [
    "### Fibonacci sequence\n",
    "- Bottom-Up 방식: 반복문 사용\n",
    "- DP의 전형적인 형태"
   ]
  },
  {
   "cell_type": "code",
   "execution_count": 6,
   "id": "b36602ca",
   "metadata": {},
   "outputs": [
    {
     "name": "stdout",
     "output_type": "stream",
     "text": [
      "3524578\n",
      "0.000997781753540039\n"
     ]
    }
   ],
   "source": [
    "'DP Table'\n",
    "d = [0] * 100\n",
    "\n",
    "start_time = time.time()\n",
    "\n",
    "d[1] = 1\n",
    "d[2] = 1\n",
    "n = 99\n",
    "\n",
    "for i in range(3, n + 1):\n",
    "    d[i] = d[i - 1] + d[i - 2]\n",
    "    \n",
    "end_time = time.time()\n",
    "print(d[33])\n",
    "print(end_time - start_time)"
   ]
  },
  {
   "cell_type": "code",
   "execution_count": null,
   "id": "a09d6fb4",
   "metadata": {},
   "outputs": [],
   "source": []
  }
 ],
 "metadata": {
  "kernelspec": {
   "display_name": "Python 3",
   "language": "python",
   "name": "python3"
  },
  "language_info": {
   "codemirror_mode": {
    "name": "ipython",
    "version": 3
   },
   "file_extension": ".py",
   "mimetype": "text/x-python",
   "name": "python",
   "nbconvert_exporter": "python",
   "pygments_lexer": "ipython3",
   "version": "3.8.8"
  }
 },
 "nbformat": 4,
 "nbformat_minor": 5
}
